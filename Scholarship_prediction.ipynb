{
 "cells": [
  {
   "cell_type": "code",
   "execution_count": 397,
   "id": "bf33650e-f127-4cf8-a9e5-f4aa24cc93c2",
   "metadata": {},
   "outputs": [],
   "source": [
    "import pandas as pd \n",
    "import numpy as np\n",
    "data = pd.read_csv(\"erasmus (1).csv\")"
   ]
  },
  {
   "cell_type": "code",
   "execution_count": 398,
   "id": "8b442787-f687-497d-8795-dd2f8198a052",
   "metadata": {},
   "outputs": [
    {
     "data": {
      "text/html": [
       "<div>\n",
       "<style scoped>\n",
       "    .dataframe tbody tr th:only-of-type {\n",
       "        vertical-align: middle;\n",
       "    }\n",
       "\n",
       "    .dataframe tbody tr th {\n",
       "        vertical-align: top;\n",
       "    }\n",
       "\n",
       "    .dataframe thead th {\n",
       "        text-align: right;\n",
       "    }\n",
       "</style>\n",
       "<table border=\"1\" class=\"dataframe\">\n",
       "  <thead>\n",
       "    <tr style=\"text-align: right;\">\n",
       "      <th></th>\n",
       "      <th>INDEX</th>\n",
       "      <th>COUNTRIES</th>\n",
       "      <th>UNIVERSITIES</th>\n",
       "      <th>FACULTIES</th>\n",
       "      <th>DEPARTMENTS</th>\n",
       "      <th>EXAM SCORE</th>\n",
       "      <th>GRANT</th>\n",
       "    </tr>\n",
       "  </thead>\n",
       "  <tbody>\n",
       "    <tr>\n",
       "      <th>0</th>\n",
       "      <td>1</td>\n",
       "      <td>ITALIA</td>\n",
       "      <td>UNIVERSITA DEGLI STUDI DI ROMA LA SAPIENZA</td>\n",
       "      <td>FACULTY OF ARTS AND SCIENCES</td>\n",
       "      <td>ENGLISH LANGUAGE AND LITERATURE</td>\n",
       "      <td>98.50</td>\n",
       "      <td>1</td>\n",
       "    </tr>\n",
       "    <tr>\n",
       "      <th>1</th>\n",
       "      <td>2</td>\n",
       "      <td>ITALIA</td>\n",
       "      <td>ALMA MATER STUDIORUM - UNIVERSITA DI BOLOGNA</td>\n",
       "      <td>FACULTY OF ARTS AND SCIENCES</td>\n",
       "      <td>SOCIOLOGY</td>\n",
       "      <td>97.10</td>\n",
       "      <td>1</td>\n",
       "    </tr>\n",
       "    <tr>\n",
       "      <th>2</th>\n",
       "      <td>3</td>\n",
       "      <td>GERMAN</td>\n",
       "      <td>UNIVERSITAET BIELEFELD</td>\n",
       "      <td>FACULTY OF ARTS AND SCIENCES</td>\n",
       "      <td>PSYCHOLOGY</td>\n",
       "      <td>96.80</td>\n",
       "      <td>1</td>\n",
       "    </tr>\n",
       "    <tr>\n",
       "      <th>3</th>\n",
       "      <td>4</td>\n",
       "      <td>GERMAN</td>\n",
       "      <td>HOCHSCHULE FUR ANGEWANDTE WISSENSCHAFTEN HAMBURG</td>\n",
       "      <td>FACULTY OF HEALTH SCIENCES</td>\n",
       "      <td>NUTRITION AND DIETETICS</td>\n",
       "      <td>96.50</td>\n",
       "      <td>1</td>\n",
       "    </tr>\n",
       "    <tr>\n",
       "      <th>4</th>\n",
       "      <td>5</td>\n",
       "      <td>ITALIA</td>\n",
       "      <td>UNIVERSITA DEGLI STUDI DI ROMA LA SAPIENZA</td>\n",
       "      <td>FACULTY OF ARTS AND SCIENCES</td>\n",
       "      <td>ENGLISH LANGUAGE AND LITERATURE</td>\n",
       "      <td>96.32</td>\n",
       "      <td>1</td>\n",
       "    </tr>\n",
       "    <tr>\n",
       "      <th>...</th>\n",
       "      <td>...</td>\n",
       "      <td>...</td>\n",
       "      <td>...</td>\n",
       "      <td>...</td>\n",
       "      <td>...</td>\n",
       "      <td>...</td>\n",
       "      <td>...</td>\n",
       "    </tr>\n",
       "    <tr>\n",
       "      <th>336</th>\n",
       "      <td>337</td>\n",
       "      <td>DUTCH</td>\n",
       "      <td>UNIVERSITEIT MAASTRICHT</td>\n",
       "      <td>FACULTY OF ECONOMICS AND ADMINISTRATIVE SCIENCES</td>\n",
       "      <td>POLITICAL SCIENCE AND INTERNATIONAL RELATIONS</td>\n",
       "      <td>62.13</td>\n",
       "      <td>0</td>\n",
       "    </tr>\n",
       "    <tr>\n",
       "      <th>337</th>\n",
       "      <td>338</td>\n",
       "      <td>POLAND</td>\n",
       "      <td>KUJAWSKO - POMORSKA SZKOLA WYZSZA W BYDGOSZCZY</td>\n",
       "      <td>FACULTY OF ENGINEERING</td>\n",
       "      <td>CIVIL ENGINEERING</td>\n",
       "      <td>61.63</td>\n",
       "      <td>0</td>\n",
       "    </tr>\n",
       "    <tr>\n",
       "      <th>338</th>\n",
       "      <td>339</td>\n",
       "      <td>BELGIUM</td>\n",
       "      <td>HOGESCHOOL GENT</td>\n",
       "      <td>FACULTY OF ECONOMICS AND ADMINISTRATIVE SCIENCES</td>\n",
       "      <td>INTERNATIONAL FINANCE</td>\n",
       "      <td>59.93</td>\n",
       "      <td>0</td>\n",
       "    </tr>\n",
       "    <tr>\n",
       "      <th>339</th>\n",
       "      <td>340</td>\n",
       "      <td>DUTCH</td>\n",
       "      <td>STİCHTİNG HANZEHOGESCHOOL GRONİNGEN</td>\n",
       "      <td>FACULTY OF COMMUNICATION</td>\n",
       "      <td>ADVERTISING DESIGN AND COMMUNICATION</td>\n",
       "      <td>56.58</td>\n",
       "      <td>0</td>\n",
       "    </tr>\n",
       "    <tr>\n",
       "      <th>340</th>\n",
       "      <td>341</td>\n",
       "      <td>GERMAN</td>\n",
       "      <td>JULIUS-MAXIMILIANS-UNIVERSITAT WURZBURG</td>\n",
       "      <td>FACULTY OF MEDICINE</td>\n",
       "      <td>MEDICINE</td>\n",
       "      <td>51.40</td>\n",
       "      <td>0</td>\n",
       "    </tr>\n",
       "  </tbody>\n",
       "</table>\n",
       "<p>341 rows × 7 columns</p>\n",
       "</div>"
      ],
      "text/plain": [
       "     INDEX COUNTRIES                                      UNIVERSITIES  \\\n",
       "0        1    ITALIA        UNIVERSITA DEGLI STUDI DI ROMA LA SAPIENZA   \n",
       "1        2    ITALIA      ALMA MATER STUDIORUM - UNIVERSITA DI BOLOGNA   \n",
       "2        3    GERMAN                            UNIVERSITAET BIELEFELD   \n",
       "3        4    GERMAN  HOCHSCHULE FUR ANGEWANDTE WISSENSCHAFTEN HAMBURG   \n",
       "4        5    ITALIA       UNIVERSITA DEGLI STUDI DI ROMA LA SAPIENZA    \n",
       "..     ...       ...                                               ...   \n",
       "336    337     DUTCH                           UNIVERSITEIT MAASTRICHT   \n",
       "337    338    POLAND    KUJAWSKO - POMORSKA SZKOLA WYZSZA W BYDGOSZCZY   \n",
       "338    339   BELGIUM                                   HOGESCHOOL GENT   \n",
       "339    340     DUTCH               STİCHTİNG HANZEHOGESCHOOL GRONİNGEN   \n",
       "340    341    GERMAN           JULIUS-MAXIMILIANS-UNIVERSITAT WURZBURG   \n",
       "\n",
       "                                            FACULTIES  \\\n",
       "0                        FACULTY OF ARTS AND SCIENCES   \n",
       "1                        FACULTY OF ARTS AND SCIENCES   \n",
       "2                        FACULTY OF ARTS AND SCIENCES   \n",
       "3                          FACULTY OF HEALTH SCIENCES   \n",
       "4                        FACULTY OF ARTS AND SCIENCES   \n",
       "..                                                ...   \n",
       "336  FACULTY OF ECONOMICS AND ADMINISTRATIVE SCIENCES   \n",
       "337                            FACULTY OF ENGINEERING   \n",
       "338  FACULTY OF ECONOMICS AND ADMINISTRATIVE SCIENCES   \n",
       "339                          FACULTY OF COMMUNICATION   \n",
       "340                               FACULTY OF MEDICINE   \n",
       "\n",
       "                                       DEPARTMENTS  EXAM SCORE  GRANT  \n",
       "0                  ENGLISH LANGUAGE AND LITERATURE       98.50      1  \n",
       "1                                        SOCIOLOGY       97.10      1  \n",
       "2                                       PSYCHOLOGY       96.80      1  \n",
       "3                          NUTRITION AND DIETETICS       96.50      1  \n",
       "4                  ENGLISH LANGUAGE AND LITERATURE       96.32      1  \n",
       "..                                             ...         ...    ...  \n",
       "336  POLITICAL SCIENCE AND INTERNATIONAL RELATIONS       62.13      0  \n",
       "337                              CIVIL ENGINEERING       61.63      0  \n",
       "338                          INTERNATIONAL FINANCE       59.93      0  \n",
       "339           ADVERTISING DESIGN AND COMMUNICATION       56.58      0  \n",
       "340                                       MEDICINE       51.40      0  \n",
       "\n",
       "[341 rows x 7 columns]"
      ]
     },
     "execution_count": 398,
     "metadata": {},
     "output_type": "execute_result"
    }
   ],
   "source": [
    "data"
   ]
  },
  {
   "cell_type": "code",
   "execution_count": 399,
   "id": "8d3d5142-bf41-46f9-845a-d358fca7fdce",
   "metadata": {},
   "outputs": [
    {
     "data": {
      "text/html": [
       "<div>\n",
       "<style scoped>\n",
       "    .dataframe tbody tr th:only-of-type {\n",
       "        vertical-align: middle;\n",
       "    }\n",
       "\n",
       "    .dataframe tbody tr th {\n",
       "        vertical-align: top;\n",
       "    }\n",
       "\n",
       "    .dataframe thead th {\n",
       "        text-align: right;\n",
       "    }\n",
       "</style>\n",
       "<table border=\"1\" class=\"dataframe\">\n",
       "  <thead>\n",
       "    <tr style=\"text-align: right;\">\n",
       "      <th></th>\n",
       "      <th>INDEX</th>\n",
       "      <th>COUNTRIES</th>\n",
       "      <th>UNIVERSITIES</th>\n",
       "      <th>FACULTIES</th>\n",
       "      <th>DEPARTMENTS</th>\n",
       "      <th>EXAM SCORE</th>\n",
       "      <th>GRANT</th>\n",
       "    </tr>\n",
       "  </thead>\n",
       "  <tbody>\n",
       "    <tr>\n",
       "      <th>0</th>\n",
       "      <td>1</td>\n",
       "      <td>ITALIA</td>\n",
       "      <td>UNIVERSITA DEGLI STUDI DI ROMA LA SAPIENZA</td>\n",
       "      <td>FACULTY OF ARTS AND SCIENCES</td>\n",
       "      <td>ENGLISH LANGUAGE AND LITERATURE</td>\n",
       "      <td>98.50</td>\n",
       "      <td>1</td>\n",
       "    </tr>\n",
       "    <tr>\n",
       "      <th>1</th>\n",
       "      <td>2</td>\n",
       "      <td>ITALIA</td>\n",
       "      <td>ALMA MATER STUDIORUM - UNIVERSITA DI BOLOGNA</td>\n",
       "      <td>FACULTY OF ARTS AND SCIENCES</td>\n",
       "      <td>SOCIOLOGY</td>\n",
       "      <td>97.10</td>\n",
       "      <td>1</td>\n",
       "    </tr>\n",
       "    <tr>\n",
       "      <th>2</th>\n",
       "      <td>3</td>\n",
       "      <td>GERMAN</td>\n",
       "      <td>UNIVERSITAET BIELEFELD</td>\n",
       "      <td>FACULTY OF ARTS AND SCIENCES</td>\n",
       "      <td>PSYCHOLOGY</td>\n",
       "      <td>96.80</td>\n",
       "      <td>1</td>\n",
       "    </tr>\n",
       "    <tr>\n",
       "      <th>3</th>\n",
       "      <td>4</td>\n",
       "      <td>GERMAN</td>\n",
       "      <td>HOCHSCHULE FUR ANGEWANDTE WISSENSCHAFTEN HAMBURG</td>\n",
       "      <td>FACULTY OF HEALTH SCIENCES</td>\n",
       "      <td>NUTRITION AND DIETETICS</td>\n",
       "      <td>96.50</td>\n",
       "      <td>1</td>\n",
       "    </tr>\n",
       "    <tr>\n",
       "      <th>4</th>\n",
       "      <td>5</td>\n",
       "      <td>ITALIA</td>\n",
       "      <td>UNIVERSITA DEGLI STUDI DI ROMA LA SAPIENZA</td>\n",
       "      <td>FACULTY OF ARTS AND SCIENCES</td>\n",
       "      <td>ENGLISH LANGUAGE AND LITERATURE</td>\n",
       "      <td>96.32</td>\n",
       "      <td>1</td>\n",
       "    </tr>\n",
       "  </tbody>\n",
       "</table>\n",
       "</div>"
      ],
      "text/plain": [
       "   INDEX COUNTRIES                                      UNIVERSITIES  \\\n",
       "0      1    ITALIA        UNIVERSITA DEGLI STUDI DI ROMA LA SAPIENZA   \n",
       "1      2    ITALIA      ALMA MATER STUDIORUM - UNIVERSITA DI BOLOGNA   \n",
       "2      3    GERMAN                            UNIVERSITAET BIELEFELD   \n",
       "3      4    GERMAN  HOCHSCHULE FUR ANGEWANDTE WISSENSCHAFTEN HAMBURG   \n",
       "4      5    ITALIA       UNIVERSITA DEGLI STUDI DI ROMA LA SAPIENZA    \n",
       "\n",
       "                      FACULTIES                      DEPARTMENTS  EXAM SCORE  \\\n",
       "0  FACULTY OF ARTS AND SCIENCES  ENGLISH LANGUAGE AND LITERATURE       98.50   \n",
       "1  FACULTY OF ARTS AND SCIENCES                        SOCIOLOGY       97.10   \n",
       "2  FACULTY OF ARTS AND SCIENCES                       PSYCHOLOGY       96.80   \n",
       "3    FACULTY OF HEALTH SCIENCES          NUTRITION AND DIETETICS       96.50   \n",
       "4  FACULTY OF ARTS AND SCIENCES  ENGLISH LANGUAGE AND LITERATURE       96.32   \n",
       "\n",
       "   GRANT  \n",
       "0      1  \n",
       "1      1  \n",
       "2      1  \n",
       "3      1  \n",
       "4      1  "
      ]
     },
     "execution_count": 399,
     "metadata": {},
     "output_type": "execute_result"
    }
   ],
   "source": [
    "data.head()"
   ]
  },
  {
   "cell_type": "code",
   "execution_count": 400,
   "id": "913c6ac5-3f25-4b62-94ba-58450d0e75f3",
   "metadata": {},
   "outputs": [
    {
     "data": {
      "text/html": [
       "<div>\n",
       "<style scoped>\n",
       "    .dataframe tbody tr th:only-of-type {\n",
       "        vertical-align: middle;\n",
       "    }\n",
       "\n",
       "    .dataframe tbody tr th {\n",
       "        vertical-align: top;\n",
       "    }\n",
       "\n",
       "    .dataframe thead th {\n",
       "        text-align: right;\n",
       "    }\n",
       "</style>\n",
       "<table border=\"1\" class=\"dataframe\">\n",
       "  <thead>\n",
       "    <tr style=\"text-align: right;\">\n",
       "      <th></th>\n",
       "      <th>INDEX</th>\n",
       "      <th>COUNTRIES</th>\n",
       "      <th>UNIVERSITIES</th>\n",
       "      <th>FACULTIES</th>\n",
       "      <th>DEPARTMENTS</th>\n",
       "      <th>EXAM SCORE</th>\n",
       "      <th>GRANT</th>\n",
       "    </tr>\n",
       "  </thead>\n",
       "  <tbody>\n",
       "    <tr>\n",
       "      <th>336</th>\n",
       "      <td>337</td>\n",
       "      <td>DUTCH</td>\n",
       "      <td>UNIVERSITEIT MAASTRICHT</td>\n",
       "      <td>FACULTY OF ECONOMICS AND ADMINISTRATIVE SCIENCES</td>\n",
       "      <td>POLITICAL SCIENCE AND INTERNATIONAL RELATIONS</td>\n",
       "      <td>62.13</td>\n",
       "      <td>0</td>\n",
       "    </tr>\n",
       "    <tr>\n",
       "      <th>337</th>\n",
       "      <td>338</td>\n",
       "      <td>POLAND</td>\n",
       "      <td>KUJAWSKO - POMORSKA SZKOLA WYZSZA W BYDGOSZCZY</td>\n",
       "      <td>FACULTY OF ENGINEERING</td>\n",
       "      <td>CIVIL ENGINEERING</td>\n",
       "      <td>61.63</td>\n",
       "      <td>0</td>\n",
       "    </tr>\n",
       "    <tr>\n",
       "      <th>338</th>\n",
       "      <td>339</td>\n",
       "      <td>BELGIUM</td>\n",
       "      <td>HOGESCHOOL GENT</td>\n",
       "      <td>FACULTY OF ECONOMICS AND ADMINISTRATIVE SCIENCES</td>\n",
       "      <td>INTERNATIONAL FINANCE</td>\n",
       "      <td>59.93</td>\n",
       "      <td>0</td>\n",
       "    </tr>\n",
       "    <tr>\n",
       "      <th>339</th>\n",
       "      <td>340</td>\n",
       "      <td>DUTCH</td>\n",
       "      <td>STİCHTİNG HANZEHOGESCHOOL GRONİNGEN</td>\n",
       "      <td>FACULTY OF COMMUNICATION</td>\n",
       "      <td>ADVERTISING DESIGN AND COMMUNICATION</td>\n",
       "      <td>56.58</td>\n",
       "      <td>0</td>\n",
       "    </tr>\n",
       "    <tr>\n",
       "      <th>340</th>\n",
       "      <td>341</td>\n",
       "      <td>GERMAN</td>\n",
       "      <td>JULIUS-MAXIMILIANS-UNIVERSITAT WURZBURG</td>\n",
       "      <td>FACULTY OF MEDICINE</td>\n",
       "      <td>MEDICINE</td>\n",
       "      <td>51.40</td>\n",
       "      <td>0</td>\n",
       "    </tr>\n",
       "  </tbody>\n",
       "</table>\n",
       "</div>"
      ],
      "text/plain": [
       "     INDEX COUNTRIES                                    UNIVERSITIES  \\\n",
       "336    337     DUTCH                         UNIVERSITEIT MAASTRICHT   \n",
       "337    338    POLAND  KUJAWSKO - POMORSKA SZKOLA WYZSZA W BYDGOSZCZY   \n",
       "338    339   BELGIUM                                 HOGESCHOOL GENT   \n",
       "339    340     DUTCH             STİCHTİNG HANZEHOGESCHOOL GRONİNGEN   \n",
       "340    341    GERMAN         JULIUS-MAXIMILIANS-UNIVERSITAT WURZBURG   \n",
       "\n",
       "                                            FACULTIES  \\\n",
       "336  FACULTY OF ECONOMICS AND ADMINISTRATIVE SCIENCES   \n",
       "337                            FACULTY OF ENGINEERING   \n",
       "338  FACULTY OF ECONOMICS AND ADMINISTRATIVE SCIENCES   \n",
       "339                          FACULTY OF COMMUNICATION   \n",
       "340                               FACULTY OF MEDICINE   \n",
       "\n",
       "                                       DEPARTMENTS  EXAM SCORE  GRANT  \n",
       "336  POLITICAL SCIENCE AND INTERNATIONAL RELATIONS       62.13      0  \n",
       "337                              CIVIL ENGINEERING       61.63      0  \n",
       "338                          INTERNATIONAL FINANCE       59.93      0  \n",
       "339           ADVERTISING DESIGN AND COMMUNICATION       56.58      0  \n",
       "340                                       MEDICINE       51.40      0  "
      ]
     },
     "execution_count": 400,
     "metadata": {},
     "output_type": "execute_result"
    }
   ],
   "source": [
    "data.tail()"
   ]
  },
  {
   "cell_type": "code",
   "execution_count": 401,
   "id": "1ed62aa3-fc35-4c2f-842b-be80d8bee65d",
   "metadata": {},
   "outputs": [
    {
     "name": "stdout",
     "output_type": "stream",
     "text": [
      "<class 'pandas.core.frame.DataFrame'>\n",
      "RangeIndex: 341 entries, 0 to 340\n",
      "Data columns (total 7 columns):\n",
      " #   Column        Non-Null Count  Dtype  \n",
      "---  ------        --------------  -----  \n",
      " 0   INDEX         341 non-null    int64  \n",
      " 1   COUNTRIES     341 non-null    object \n",
      " 2   UNIVERSITIES  341 non-null    object \n",
      " 3   FACULTIES     341 non-null    object \n",
      " 4   DEPARTMENTS   339 non-null    object \n",
      " 5   EXAM SCORE    341 non-null    float64\n",
      " 6   GRANT         341 non-null    int64  \n",
      "dtypes: float64(1), int64(2), object(4)\n",
      "memory usage: 18.8+ KB\n"
     ]
    }
   ],
   "source": [
    "data.info()"
   ]
  },
  {
   "cell_type": "code",
   "execution_count": 402,
   "id": "4e956374-a3ec-4072-a6f4-b31be14fd182",
   "metadata": {},
   "outputs": [
    {
     "data": {
      "text/plain": [
       "INDEX           0\n",
       "COUNTRIES       0\n",
       "UNIVERSITIES    0\n",
       "FACULTIES       0\n",
       "DEPARTMENTS     2\n",
       "EXAM SCORE      0\n",
       "GRANT           0\n",
       "dtype: int64"
      ]
     },
     "execution_count": 402,
     "metadata": {},
     "output_type": "execute_result"
    }
   ],
   "source": [
    "data.isna().sum()"
   ]
  },
  {
   "cell_type": "code",
   "execution_count": 403,
   "id": "3d0f7d85-6521-4105-afe0-8b38d63b1958",
   "metadata": {},
   "outputs": [],
   "source": [
    "data.dropna(inplace = True)"
   ]
  },
  {
   "cell_type": "code",
   "execution_count": 404,
   "id": "820f28dd-76c6-4fa0-8bfd-117585d1abdf",
   "metadata": {},
   "outputs": [
    {
     "data": {
      "text/html": [
       "<div>\n",
       "<style scoped>\n",
       "    .dataframe tbody tr th:only-of-type {\n",
       "        vertical-align: middle;\n",
       "    }\n",
       "\n",
       "    .dataframe tbody tr th {\n",
       "        vertical-align: top;\n",
       "    }\n",
       "\n",
       "    .dataframe thead th {\n",
       "        text-align: right;\n",
       "    }\n",
       "</style>\n",
       "<table border=\"1\" class=\"dataframe\">\n",
       "  <thead>\n",
       "    <tr style=\"text-align: right;\">\n",
       "      <th></th>\n",
       "      <th>INDEX</th>\n",
       "      <th>COUNTRIES</th>\n",
       "      <th>UNIVERSITIES</th>\n",
       "      <th>FACULTIES</th>\n",
       "      <th>DEPARTMENTS</th>\n",
       "      <th>EXAM SCORE</th>\n",
       "      <th>GRANT</th>\n",
       "    </tr>\n",
       "  </thead>\n",
       "  <tbody>\n",
       "    <tr>\n",
       "      <th>0</th>\n",
       "      <td>1</td>\n",
       "      <td>ITALIA</td>\n",
       "      <td>UNIVERSITA DEGLI STUDI DI ROMA LA SAPIENZA</td>\n",
       "      <td>FACULTY OF ARTS AND SCIENCES</td>\n",
       "      <td>ENGLISH LANGUAGE AND LITERATURE</td>\n",
       "      <td>98.50</td>\n",
       "      <td>1</td>\n",
       "    </tr>\n",
       "    <tr>\n",
       "      <th>1</th>\n",
       "      <td>2</td>\n",
       "      <td>ITALIA</td>\n",
       "      <td>ALMA MATER STUDIORUM - UNIVERSITA DI BOLOGNA</td>\n",
       "      <td>FACULTY OF ARTS AND SCIENCES</td>\n",
       "      <td>SOCIOLOGY</td>\n",
       "      <td>97.10</td>\n",
       "      <td>1</td>\n",
       "    </tr>\n",
       "    <tr>\n",
       "      <th>2</th>\n",
       "      <td>3</td>\n",
       "      <td>GERMAN</td>\n",
       "      <td>UNIVERSITAET BIELEFELD</td>\n",
       "      <td>FACULTY OF ARTS AND SCIENCES</td>\n",
       "      <td>PSYCHOLOGY</td>\n",
       "      <td>96.80</td>\n",
       "      <td>1</td>\n",
       "    </tr>\n",
       "    <tr>\n",
       "      <th>3</th>\n",
       "      <td>4</td>\n",
       "      <td>GERMAN</td>\n",
       "      <td>HOCHSCHULE FUR ANGEWANDTE WISSENSCHAFTEN HAMBURG</td>\n",
       "      <td>FACULTY OF HEALTH SCIENCES</td>\n",
       "      <td>NUTRITION AND DIETETICS</td>\n",
       "      <td>96.50</td>\n",
       "      <td>1</td>\n",
       "    </tr>\n",
       "    <tr>\n",
       "      <th>4</th>\n",
       "      <td>5</td>\n",
       "      <td>ITALIA</td>\n",
       "      <td>UNIVERSITA DEGLI STUDI DI ROMA LA SAPIENZA</td>\n",
       "      <td>FACULTY OF ARTS AND SCIENCES</td>\n",
       "      <td>ENGLISH LANGUAGE AND LITERATURE</td>\n",
       "      <td>96.32</td>\n",
       "      <td>1</td>\n",
       "    </tr>\n",
       "  </tbody>\n",
       "</table>\n",
       "</div>"
      ],
      "text/plain": [
       "   INDEX COUNTRIES                                      UNIVERSITIES  \\\n",
       "0      1    ITALIA        UNIVERSITA DEGLI STUDI DI ROMA LA SAPIENZA   \n",
       "1      2    ITALIA      ALMA MATER STUDIORUM - UNIVERSITA DI BOLOGNA   \n",
       "2      3    GERMAN                            UNIVERSITAET BIELEFELD   \n",
       "3      4    GERMAN  HOCHSCHULE FUR ANGEWANDTE WISSENSCHAFTEN HAMBURG   \n",
       "4      5    ITALIA       UNIVERSITA DEGLI STUDI DI ROMA LA SAPIENZA    \n",
       "\n",
       "                      FACULTIES                      DEPARTMENTS  EXAM SCORE  \\\n",
       "0  FACULTY OF ARTS AND SCIENCES  ENGLISH LANGUAGE AND LITERATURE       98.50   \n",
       "1  FACULTY OF ARTS AND SCIENCES                        SOCIOLOGY       97.10   \n",
       "2  FACULTY OF ARTS AND SCIENCES                       PSYCHOLOGY       96.80   \n",
       "3    FACULTY OF HEALTH SCIENCES          NUTRITION AND DIETETICS       96.50   \n",
       "4  FACULTY OF ARTS AND SCIENCES  ENGLISH LANGUAGE AND LITERATURE       96.32   \n",
       "\n",
       "   GRANT  \n",
       "0      1  \n",
       "1      1  \n",
       "2      1  \n",
       "3      1  \n",
       "4      1  "
      ]
     },
     "execution_count": 404,
     "metadata": {},
     "output_type": "execute_result"
    }
   ],
   "source": [
    "data.head()"
   ]
  },
  {
   "cell_type": "code",
   "execution_count": 405,
   "id": "b82a1b51-7969-444d-adef-d660a0f91c3a",
   "metadata": {},
   "outputs": [
    {
     "data": {
      "text/plain": [
       "0"
      ]
     },
     "execution_count": 405,
     "metadata": {},
     "output_type": "execute_result"
    }
   ],
   "source": [
    "data.duplicated().sum()"
   ]
  },
  {
   "cell_type": "code",
   "execution_count": 406,
   "id": "adc2b2d6-3e40-41dc-b367-a19ea0b3e52c",
   "metadata": {},
   "outputs": [
    {
     "data": {
      "text/plain": [
       "Index(['INDEX', 'COUNTRIES', 'UNIVERSITIES', 'FACULTIES', 'DEPARTMENTS',\n",
       "       'EXAM SCORE', 'GRANT'],\n",
       "      dtype='object')"
      ]
     },
     "execution_count": 406,
     "metadata": {},
     "output_type": "execute_result"
    }
   ],
   "source": [
    "data.columns"
   ]
  },
  {
   "cell_type": "code",
   "execution_count": 407,
   "id": "ba91cb3c-b545-4d0a-9086-2dcdaa16205f",
   "metadata": {},
   "outputs": [
    {
     "data": {
      "text/plain": [
       "str"
      ]
     },
     "execution_count": 407,
     "metadata": {},
     "output_type": "execute_result"
    }
   ],
   "source": [
    "#checking the type of data of columns by putting different values\n",
    "type(data.columns[0])"
   ]
  },
  {
   "cell_type": "code",
   "execution_count": 408,
   "id": "ab0994ab-f95d-40b7-9e45-1829d0285d1a",
   "metadata": {},
   "outputs": [
    {
     "data": {
      "text/plain": [
       "'Index'"
      ]
     },
     "execution_count": 408,
     "metadata": {},
     "output_type": "execute_result"
    }
   ],
   "source": [
    "data.columns[0].capitalize()"
   ]
  },
  {
   "cell_type": "code",
   "execution_count": 409,
   "id": "0c91b8ac-af06-4d55-a5ef-804368b7bfdf",
   "metadata": {},
   "outputs": [
    {
     "data": {
      "text/plain": [
       "Index(['INDEX', 'COUNTRIES', 'UNIVERSITIES', 'FACULTIES', 'DEPARTMENTS',\n",
       "       'EXAM SCORE', 'GRANT'],\n",
       "      dtype='object')"
      ]
     },
     "execution_count": 409,
     "metadata": {},
     "output_type": "execute_result"
    }
   ],
   "source": [
    "data.columns"
   ]
  },
  {
   "cell_type": "code",
   "execution_count": 410,
   "id": "02c56148-560f-435e-9553-1fb2665591ac",
   "metadata": {},
   "outputs": [],
   "source": [
    "new_columns_names= []\n",
    "\n",
    "for element in data.columns:\n",
    "    new_columns_names.append(element.capitalize())"
   ]
  },
  {
   "cell_type": "code",
   "execution_count": 411,
   "id": "178f1e0e-5f5e-4073-8edb-e569f2d32fe9",
   "metadata": {},
   "outputs": [
    {
     "data": {
      "text/plain": [
       "['Index',\n",
       " 'Countries',\n",
       " 'Universities',\n",
       " 'Faculties',\n",
       " 'Departments',\n",
       " 'Exam score',\n",
       " 'Grant']"
      ]
     },
     "execution_count": 411,
     "metadata": {},
     "output_type": "execute_result"
    }
   ],
   "source": [
    "new_columns_names"
   ]
  },
  {
   "cell_type": "code",
   "execution_count": 412,
   "id": "688c92a6-9ea5-46a5-8097-ba09e3021b48",
   "metadata": {},
   "outputs": [],
   "source": [
    "data.columns = new_columns_names"
   ]
  },
  {
   "cell_type": "code",
   "execution_count": 413,
   "id": "1c5a1fc6-c0a5-431d-b647-80c5a09805d1",
   "metadata": {},
   "outputs": [
    {
     "data": {
      "text/html": [
       "<div>\n",
       "<style scoped>\n",
       "    .dataframe tbody tr th:only-of-type {\n",
       "        vertical-align: middle;\n",
       "    }\n",
       "\n",
       "    .dataframe tbody tr th {\n",
       "        vertical-align: top;\n",
       "    }\n",
       "\n",
       "    .dataframe thead th {\n",
       "        text-align: right;\n",
       "    }\n",
       "</style>\n",
       "<table border=\"1\" class=\"dataframe\">\n",
       "  <thead>\n",
       "    <tr style=\"text-align: right;\">\n",
       "      <th></th>\n",
       "      <th>Index</th>\n",
       "      <th>Countries</th>\n",
       "      <th>Universities</th>\n",
       "      <th>Faculties</th>\n",
       "      <th>Departments</th>\n",
       "      <th>Exam score</th>\n",
       "      <th>Grant</th>\n",
       "    </tr>\n",
       "  </thead>\n",
       "  <tbody>\n",
       "    <tr>\n",
       "      <th>0</th>\n",
       "      <td>1</td>\n",
       "      <td>ITALIA</td>\n",
       "      <td>UNIVERSITA DEGLI STUDI DI ROMA LA SAPIENZA</td>\n",
       "      <td>FACULTY OF ARTS AND SCIENCES</td>\n",
       "      <td>ENGLISH LANGUAGE AND LITERATURE</td>\n",
       "      <td>98.50</td>\n",
       "      <td>1</td>\n",
       "    </tr>\n",
       "    <tr>\n",
       "      <th>1</th>\n",
       "      <td>2</td>\n",
       "      <td>ITALIA</td>\n",
       "      <td>ALMA MATER STUDIORUM - UNIVERSITA DI BOLOGNA</td>\n",
       "      <td>FACULTY OF ARTS AND SCIENCES</td>\n",
       "      <td>SOCIOLOGY</td>\n",
       "      <td>97.10</td>\n",
       "      <td>1</td>\n",
       "    </tr>\n",
       "    <tr>\n",
       "      <th>2</th>\n",
       "      <td>3</td>\n",
       "      <td>GERMAN</td>\n",
       "      <td>UNIVERSITAET BIELEFELD</td>\n",
       "      <td>FACULTY OF ARTS AND SCIENCES</td>\n",
       "      <td>PSYCHOLOGY</td>\n",
       "      <td>96.80</td>\n",
       "      <td>1</td>\n",
       "    </tr>\n",
       "    <tr>\n",
       "      <th>3</th>\n",
       "      <td>4</td>\n",
       "      <td>GERMAN</td>\n",
       "      <td>HOCHSCHULE FUR ANGEWANDTE WISSENSCHAFTEN HAMBURG</td>\n",
       "      <td>FACULTY OF HEALTH SCIENCES</td>\n",
       "      <td>NUTRITION AND DIETETICS</td>\n",
       "      <td>96.50</td>\n",
       "      <td>1</td>\n",
       "    </tr>\n",
       "    <tr>\n",
       "      <th>4</th>\n",
       "      <td>5</td>\n",
       "      <td>ITALIA</td>\n",
       "      <td>UNIVERSITA DEGLI STUDI DI ROMA LA SAPIENZA</td>\n",
       "      <td>FACULTY OF ARTS AND SCIENCES</td>\n",
       "      <td>ENGLISH LANGUAGE AND LITERATURE</td>\n",
       "      <td>96.32</td>\n",
       "      <td>1</td>\n",
       "    </tr>\n",
       "  </tbody>\n",
       "</table>\n",
       "</div>"
      ],
      "text/plain": [
       "   Index Countries                                      Universities  \\\n",
       "0      1    ITALIA        UNIVERSITA DEGLI STUDI DI ROMA LA SAPIENZA   \n",
       "1      2    ITALIA      ALMA MATER STUDIORUM - UNIVERSITA DI BOLOGNA   \n",
       "2      3    GERMAN                            UNIVERSITAET BIELEFELD   \n",
       "3      4    GERMAN  HOCHSCHULE FUR ANGEWANDTE WISSENSCHAFTEN HAMBURG   \n",
       "4      5    ITALIA       UNIVERSITA DEGLI STUDI DI ROMA LA SAPIENZA    \n",
       "\n",
       "                      Faculties                      Departments  Exam score  \\\n",
       "0  FACULTY OF ARTS AND SCIENCES  ENGLISH LANGUAGE AND LITERATURE       98.50   \n",
       "1  FACULTY OF ARTS AND SCIENCES                        SOCIOLOGY       97.10   \n",
       "2  FACULTY OF ARTS AND SCIENCES                       PSYCHOLOGY       96.80   \n",
       "3    FACULTY OF HEALTH SCIENCES          NUTRITION AND DIETETICS       96.50   \n",
       "4  FACULTY OF ARTS AND SCIENCES  ENGLISH LANGUAGE AND LITERATURE       96.32   \n",
       "\n",
       "   Grant  \n",
       "0      1  \n",
       "1      1  \n",
       "2      1  \n",
       "3      1  \n",
       "4      1  "
      ]
     },
     "execution_count": 413,
     "metadata": {},
     "output_type": "execute_result"
    }
   ],
   "source": [
    "data.head()"
   ]
  },
  {
   "cell_type": "code",
   "execution_count": 414,
   "id": "ffd2ac9f-b277-410a-b85f-50ff6984feed",
   "metadata": {},
   "outputs": [],
   "source": [
    "data.columns = new_columns_names"
   ]
  },
  {
   "cell_type": "code",
   "execution_count": 415,
   "id": "6c1ce994-66ee-48a4-8aaa-f4b4b7088757",
   "metadata": {},
   "outputs": [
    {
     "data": {
      "text/html": [
       "<div>\n",
       "<style scoped>\n",
       "    .dataframe tbody tr th:only-of-type {\n",
       "        vertical-align: middle;\n",
       "    }\n",
       "\n",
       "    .dataframe tbody tr th {\n",
       "        vertical-align: top;\n",
       "    }\n",
       "\n",
       "    .dataframe thead th {\n",
       "        text-align: right;\n",
       "    }\n",
       "</style>\n",
       "<table border=\"1\" class=\"dataframe\">\n",
       "  <thead>\n",
       "    <tr style=\"text-align: right;\">\n",
       "      <th></th>\n",
       "      <th>Countries</th>\n",
       "      <th>Universities</th>\n",
       "    </tr>\n",
       "  </thead>\n",
       "  <tbody>\n",
       "    <tr>\n",
       "      <th>0</th>\n",
       "      <td>ITALIA</td>\n",
       "      <td>UNIVERSITA DEGLI STUDI DI ROMA LA SAPIENZA</td>\n",
       "    </tr>\n",
       "    <tr>\n",
       "      <th>1</th>\n",
       "      <td>ITALIA</td>\n",
       "      <td>ALMA MATER STUDIORUM - UNIVERSITA DI BOLOGNA</td>\n",
       "    </tr>\n",
       "    <tr>\n",
       "      <th>2</th>\n",
       "      <td>GERMAN</td>\n",
       "      <td>UNIVERSITAET BIELEFELD</td>\n",
       "    </tr>\n",
       "    <tr>\n",
       "      <th>3</th>\n",
       "      <td>GERMAN</td>\n",
       "      <td>HOCHSCHULE FUR ANGEWANDTE WISSENSCHAFTEN HAMBURG</td>\n",
       "    </tr>\n",
       "    <tr>\n",
       "      <th>4</th>\n",
       "      <td>ITALIA</td>\n",
       "      <td>UNIVERSITA DEGLI STUDI DI ROMA LA SAPIENZA</td>\n",
       "    </tr>\n",
       "    <tr>\n",
       "      <th>...</th>\n",
       "      <td>...</td>\n",
       "      <td>...</td>\n",
       "    </tr>\n",
       "    <tr>\n",
       "      <th>336</th>\n",
       "      <td>DUTCH</td>\n",
       "      <td>UNIVERSITEIT MAASTRICHT</td>\n",
       "    </tr>\n",
       "    <tr>\n",
       "      <th>337</th>\n",
       "      <td>POLAND</td>\n",
       "      <td>KUJAWSKO - POMORSKA SZKOLA WYZSZA W BYDGOSZCZY</td>\n",
       "    </tr>\n",
       "    <tr>\n",
       "      <th>338</th>\n",
       "      <td>BELGIUM</td>\n",
       "      <td>HOGESCHOOL GENT</td>\n",
       "    </tr>\n",
       "    <tr>\n",
       "      <th>339</th>\n",
       "      <td>DUTCH</td>\n",
       "      <td>STİCHTİNG HANZEHOGESCHOOL GRONİNGEN</td>\n",
       "    </tr>\n",
       "    <tr>\n",
       "      <th>340</th>\n",
       "      <td>GERMAN</td>\n",
       "      <td>JULIUS-MAXIMILIANS-UNIVERSITAT WURZBURG</td>\n",
       "    </tr>\n",
       "  </tbody>\n",
       "</table>\n",
       "<p>339 rows × 2 columns</p>\n",
       "</div>"
      ],
      "text/plain": [
       "    Countries                                      Universities\n",
       "0      ITALIA        UNIVERSITA DEGLI STUDI DI ROMA LA SAPIENZA\n",
       "1      ITALIA      ALMA MATER STUDIORUM - UNIVERSITA DI BOLOGNA\n",
       "2      GERMAN                            UNIVERSITAET BIELEFELD\n",
       "3      GERMAN  HOCHSCHULE FUR ANGEWANDTE WISSENSCHAFTEN HAMBURG\n",
       "4      ITALIA       UNIVERSITA DEGLI STUDI DI ROMA LA SAPIENZA \n",
       "..        ...                                               ...\n",
       "336     DUTCH                           UNIVERSITEIT MAASTRICHT\n",
       "337    POLAND    KUJAWSKO - POMORSKA SZKOLA WYZSZA W BYDGOSZCZY\n",
       "338   BELGIUM                                   HOGESCHOOL GENT\n",
       "339     DUTCH               STİCHTİNG HANZEHOGESCHOOL GRONİNGEN\n",
       "340    GERMAN           JULIUS-MAXIMILIANS-UNIVERSITAT WURZBURG\n",
       "\n",
       "[339 rows x 2 columns]"
      ]
     },
     "execution_count": 415,
     "metadata": {},
     "output_type": "execute_result"
    }
   ],
   "source": [
    "data[[\"Countries\",\"Universities\"]]"
   ]
  },
  {
   "cell_type": "code",
   "execution_count": 416,
   "id": "68f525bf-f63e-4b17-bb45-3147329b409e",
   "metadata": {},
   "outputs": [],
   "source": [
    "data.drop(columns = [\"Index\"],inplace = True)"
   ]
  },
  {
   "cell_type": "code",
   "execution_count": 417,
   "id": "d12ca0c7-3e25-497f-b0c1-1796ff614610",
   "metadata": {},
   "outputs": [
    {
     "data": {
      "text/html": [
       "<div>\n",
       "<style scoped>\n",
       "    .dataframe tbody tr th:only-of-type {\n",
       "        vertical-align: middle;\n",
       "    }\n",
       "\n",
       "    .dataframe tbody tr th {\n",
       "        vertical-align: top;\n",
       "    }\n",
       "\n",
       "    .dataframe thead th {\n",
       "        text-align: right;\n",
       "    }\n",
       "</style>\n",
       "<table border=\"1\" class=\"dataframe\">\n",
       "  <thead>\n",
       "    <tr style=\"text-align: right;\">\n",
       "      <th></th>\n",
       "      <th>Countries</th>\n",
       "      <th>Universities</th>\n",
       "      <th>Faculties</th>\n",
       "      <th>Departments</th>\n",
       "      <th>Exam score</th>\n",
       "      <th>Grant</th>\n",
       "    </tr>\n",
       "  </thead>\n",
       "  <tbody>\n",
       "    <tr>\n",
       "      <th>0</th>\n",
       "      <td>ITALIA</td>\n",
       "      <td>UNIVERSITA DEGLI STUDI DI ROMA LA SAPIENZA</td>\n",
       "      <td>FACULTY OF ARTS AND SCIENCES</td>\n",
       "      <td>ENGLISH LANGUAGE AND LITERATURE</td>\n",
       "      <td>98.50</td>\n",
       "      <td>1</td>\n",
       "    </tr>\n",
       "    <tr>\n",
       "      <th>1</th>\n",
       "      <td>ITALIA</td>\n",
       "      <td>ALMA MATER STUDIORUM - UNIVERSITA DI BOLOGNA</td>\n",
       "      <td>FACULTY OF ARTS AND SCIENCES</td>\n",
       "      <td>SOCIOLOGY</td>\n",
       "      <td>97.10</td>\n",
       "      <td>1</td>\n",
       "    </tr>\n",
       "    <tr>\n",
       "      <th>2</th>\n",
       "      <td>GERMAN</td>\n",
       "      <td>UNIVERSITAET BIELEFELD</td>\n",
       "      <td>FACULTY OF ARTS AND SCIENCES</td>\n",
       "      <td>PSYCHOLOGY</td>\n",
       "      <td>96.80</td>\n",
       "      <td>1</td>\n",
       "    </tr>\n",
       "    <tr>\n",
       "      <th>3</th>\n",
       "      <td>GERMAN</td>\n",
       "      <td>HOCHSCHULE FUR ANGEWANDTE WISSENSCHAFTEN HAMBURG</td>\n",
       "      <td>FACULTY OF HEALTH SCIENCES</td>\n",
       "      <td>NUTRITION AND DIETETICS</td>\n",
       "      <td>96.50</td>\n",
       "      <td>1</td>\n",
       "    </tr>\n",
       "    <tr>\n",
       "      <th>4</th>\n",
       "      <td>ITALIA</td>\n",
       "      <td>UNIVERSITA DEGLI STUDI DI ROMA LA SAPIENZA</td>\n",
       "      <td>FACULTY OF ARTS AND SCIENCES</td>\n",
       "      <td>ENGLISH LANGUAGE AND LITERATURE</td>\n",
       "      <td>96.32</td>\n",
       "      <td>1</td>\n",
       "    </tr>\n",
       "  </tbody>\n",
       "</table>\n",
       "</div>"
      ],
      "text/plain": [
       "  Countries                                      Universities  \\\n",
       "0    ITALIA        UNIVERSITA DEGLI STUDI DI ROMA LA SAPIENZA   \n",
       "1    ITALIA      ALMA MATER STUDIORUM - UNIVERSITA DI BOLOGNA   \n",
       "2    GERMAN                            UNIVERSITAET BIELEFELD   \n",
       "3    GERMAN  HOCHSCHULE FUR ANGEWANDTE WISSENSCHAFTEN HAMBURG   \n",
       "4    ITALIA       UNIVERSITA DEGLI STUDI DI ROMA LA SAPIENZA    \n",
       "\n",
       "                      Faculties                      Departments  Exam score  \\\n",
       "0  FACULTY OF ARTS AND SCIENCES  ENGLISH LANGUAGE AND LITERATURE       98.50   \n",
       "1  FACULTY OF ARTS AND SCIENCES                        SOCIOLOGY       97.10   \n",
       "2  FACULTY OF ARTS AND SCIENCES                       PSYCHOLOGY       96.80   \n",
       "3    FACULTY OF HEALTH SCIENCES          NUTRITION AND DIETETICS       96.50   \n",
       "4  FACULTY OF ARTS AND SCIENCES  ENGLISH LANGUAGE AND LITERATURE       96.32   \n",
       "\n",
       "   Grant  \n",
       "0      1  \n",
       "1      1  \n",
       "2      1  \n",
       "3      1  \n",
       "4      1  "
      ]
     },
     "execution_count": 417,
     "metadata": {},
     "output_type": "execute_result"
    }
   ],
   "source": [
    "data.head()"
   ]
  },
  {
   "cell_type": "code",
   "execution_count": 418,
   "id": "42651c95-5a79-4d95-b252-d4436f44a4a5",
   "metadata": {},
   "outputs": [
    {
     "data": {
      "text/plain": [
       "Grant\n",
       "0    191\n",
       "1    148\n",
       "Name: count, dtype: int64"
      ]
     },
     "execution_count": 418,
     "metadata": {},
     "output_type": "execute_result"
    }
   ],
   "source": [
    "data[\"Grant\"].value_counts()"
   ]
  },
  {
   "cell_type": "code",
   "execution_count": 419,
   "id": "176761b5-301a-49ac-b46c-a324e865fa47",
   "metadata": {},
   "outputs": [
    {
     "data": {
      "text/plain": [
       "<bound method NDFrame.tail of count    339.000000\n",
       "mean      79.159853\n",
       "std        8.585522\n",
       "min       51.400000\n",
       "25%       73.560000\n",
       "50%       79.320000\n",
       "75%       85.325000\n",
       "max       98.500000\n",
       "Name: Exam score, dtype: float64>"
      ]
     },
     "execution_count": 419,
     "metadata": {},
     "output_type": "execute_result"
    }
   ],
   "source": [
    "#data[\"Exam score\"].describe() ya phir yeh bhi kr skte hai \n",
    "data[\"Exam score\"].describe().tail"
   ]
  },
  {
   "cell_type": "code",
   "execution_count": 420,
   "id": "44c962e9-5b02-431c-9ae1-14e2c8b9a244",
   "metadata": {},
   "outputs": [
    {
     "data": {
      "text/html": [
       "<div>\n",
       "<style scoped>\n",
       "    .dataframe tbody tr th:only-of-type {\n",
       "        vertical-align: middle;\n",
       "    }\n",
       "\n",
       "    .dataframe tbody tr th {\n",
       "        vertical-align: top;\n",
       "    }\n",
       "\n",
       "    .dataframe thead th {\n",
       "        text-align: right;\n",
       "    }\n",
       "</style>\n",
       "<table border=\"1\" class=\"dataframe\">\n",
       "  <thead>\n",
       "    <tr style=\"text-align: right;\">\n",
       "      <th></th>\n",
       "      <th>Countries</th>\n",
       "      <th>Universities</th>\n",
       "      <th>Faculties</th>\n",
       "      <th>Departments</th>\n",
       "      <th>Exam score</th>\n",
       "      <th>Grant</th>\n",
       "    </tr>\n",
       "  </thead>\n",
       "  <tbody>\n",
       "    <tr>\n",
       "      <th>0</th>\n",
       "      <td>ITALIA</td>\n",
       "      <td>UNIVERSITA DEGLI STUDI DI ROMA LA SAPIENZA</td>\n",
       "      <td>FACULTY OF ARTS AND SCIENCES</td>\n",
       "      <td>ENGLISH LANGUAGE AND LITERATURE</td>\n",
       "      <td>98.50</td>\n",
       "      <td>1</td>\n",
       "    </tr>\n",
       "    <tr>\n",
       "      <th>1</th>\n",
       "      <td>ITALIA</td>\n",
       "      <td>ALMA MATER STUDIORUM - UNIVERSITA DI BOLOGNA</td>\n",
       "      <td>FACULTY OF ARTS AND SCIENCES</td>\n",
       "      <td>SOCIOLOGY</td>\n",
       "      <td>97.10</td>\n",
       "      <td>1</td>\n",
       "    </tr>\n",
       "    <tr>\n",
       "      <th>2</th>\n",
       "      <td>GERMAN</td>\n",
       "      <td>UNIVERSITAET BIELEFELD</td>\n",
       "      <td>FACULTY OF ARTS AND SCIENCES</td>\n",
       "      <td>PSYCHOLOGY</td>\n",
       "      <td>96.80</td>\n",
       "      <td>1</td>\n",
       "    </tr>\n",
       "    <tr>\n",
       "      <th>3</th>\n",
       "      <td>GERMAN</td>\n",
       "      <td>HOCHSCHULE FUR ANGEWANDTE WISSENSCHAFTEN HAMBURG</td>\n",
       "      <td>FACULTY OF HEALTH SCIENCES</td>\n",
       "      <td>NUTRITION AND DIETETICS</td>\n",
       "      <td>96.50</td>\n",
       "      <td>1</td>\n",
       "    </tr>\n",
       "    <tr>\n",
       "      <th>4</th>\n",
       "      <td>ITALIA</td>\n",
       "      <td>UNIVERSITA DEGLI STUDI DI ROMA LA SAPIENZA</td>\n",
       "      <td>FACULTY OF ARTS AND SCIENCES</td>\n",
       "      <td>ENGLISH LANGUAGE AND LITERATURE</td>\n",
       "      <td>96.32</td>\n",
       "      <td>1</td>\n",
       "    </tr>\n",
       "  </tbody>\n",
       "</table>\n",
       "</div>"
      ],
      "text/plain": [
       "  Countries                                      Universities  \\\n",
       "0    ITALIA        UNIVERSITA DEGLI STUDI DI ROMA LA SAPIENZA   \n",
       "1    ITALIA      ALMA MATER STUDIORUM - UNIVERSITA DI BOLOGNA   \n",
       "2    GERMAN                            UNIVERSITAET BIELEFELD   \n",
       "3    GERMAN  HOCHSCHULE FUR ANGEWANDTE WISSENSCHAFTEN HAMBURG   \n",
       "4    ITALIA       UNIVERSITA DEGLI STUDI DI ROMA LA SAPIENZA    \n",
       "\n",
       "                      Faculties                      Departments  Exam score  \\\n",
       "0  FACULTY OF ARTS AND SCIENCES  ENGLISH LANGUAGE AND LITERATURE       98.50   \n",
       "1  FACULTY OF ARTS AND SCIENCES                        SOCIOLOGY       97.10   \n",
       "2  FACULTY OF ARTS AND SCIENCES                       PSYCHOLOGY       96.80   \n",
       "3    FACULTY OF HEALTH SCIENCES          NUTRITION AND DIETETICS       96.50   \n",
       "4  FACULTY OF ARTS AND SCIENCES  ENGLISH LANGUAGE AND LITERATURE       96.32   \n",
       "\n",
       "   Grant  \n",
       "0      1  \n",
       "1      1  \n",
       "2      1  \n",
       "3      1  \n",
       "4      1  "
      ]
     },
     "execution_count": 420,
     "metadata": {},
     "output_type": "execute_result"
    }
   ],
   "source": [
    "data.head()"
   ]
  },
  {
   "cell_type": "code",
   "execution_count": 421,
   "id": "fdf59260-6cfa-4df3-ad98-bbfc98a4b7a9",
   "metadata": {},
   "outputs": [
    {
     "data": {
      "text/plain": [
       "'Italia'"
      ]
     },
     "execution_count": 421,
     "metadata": {},
     "output_type": "execute_result"
    }
   ],
   "source": [
    "data[\"Countries\"][0].capitalize()"
   ]
  },
  {
   "cell_type": "code",
   "execution_count": 422,
   "id": "ee2b9de5-9b4b-4a16-8ab1-9ec8d843e3be",
   "metadata": {},
   "outputs": [
    {
     "data": {
      "text/plain": [
       "0       Italia\n",
       "1       Italia\n",
       "2       German\n",
       "3       German\n",
       "4       Italia\n",
       "        ...   \n",
       "336      Dutch\n",
       "337     Poland\n",
       "338    Belgium\n",
       "339      Dutch\n",
       "340     German\n",
       "Name: Countries, Length: 339, dtype: object"
      ]
     },
     "execution_count": 422,
     "metadata": {},
     "output_type": "execute_result"
    }
   ],
   "source": [
    "data[\"Countries\"].apply(lambda x: x.capitalize())"
   ]
  },
  {
   "cell_type": "code",
   "execution_count": 423,
   "id": "1cc94f88-016a-4701-8e2b-4730e6da5137",
   "metadata": {},
   "outputs": [
    {
     "data": {
      "text/html": [
       "<div>\n",
       "<style scoped>\n",
       "    .dataframe tbody tr th:only-of-type {\n",
       "        vertical-align: middle;\n",
       "    }\n",
       "\n",
       "    .dataframe tbody tr th {\n",
       "        vertical-align: top;\n",
       "    }\n",
       "\n",
       "    .dataframe thead th {\n",
       "        text-align: right;\n",
       "    }\n",
       "</style>\n",
       "<table border=\"1\" class=\"dataframe\">\n",
       "  <thead>\n",
       "    <tr style=\"text-align: right;\">\n",
       "      <th></th>\n",
       "      <th>Countries</th>\n",
       "      <th>Universities</th>\n",
       "      <th>Faculties</th>\n",
       "      <th>Departments</th>\n",
       "      <th>Exam score</th>\n",
       "      <th>Grant</th>\n",
       "    </tr>\n",
       "  </thead>\n",
       "  <tbody>\n",
       "    <tr>\n",
       "      <th>0</th>\n",
       "      <td>ITALIA</td>\n",
       "      <td>UNIVERSITA DEGLI STUDI DI ROMA LA SAPIENZA</td>\n",
       "      <td>FACULTY OF ARTS AND SCIENCES</td>\n",
       "      <td>ENGLISH LANGUAGE AND LITERATURE</td>\n",
       "      <td>98.50</td>\n",
       "      <td>1</td>\n",
       "    </tr>\n",
       "    <tr>\n",
       "      <th>1</th>\n",
       "      <td>ITALIA</td>\n",
       "      <td>ALMA MATER STUDIORUM - UNIVERSITA DI BOLOGNA</td>\n",
       "      <td>FACULTY OF ARTS AND SCIENCES</td>\n",
       "      <td>SOCIOLOGY</td>\n",
       "      <td>97.10</td>\n",
       "      <td>1</td>\n",
       "    </tr>\n",
       "    <tr>\n",
       "      <th>2</th>\n",
       "      <td>GERMAN</td>\n",
       "      <td>UNIVERSITAET BIELEFELD</td>\n",
       "      <td>FACULTY OF ARTS AND SCIENCES</td>\n",
       "      <td>PSYCHOLOGY</td>\n",
       "      <td>96.80</td>\n",
       "      <td>1</td>\n",
       "    </tr>\n",
       "    <tr>\n",
       "      <th>3</th>\n",
       "      <td>GERMAN</td>\n",
       "      <td>HOCHSCHULE FUR ANGEWANDTE WISSENSCHAFTEN HAMBURG</td>\n",
       "      <td>FACULTY OF HEALTH SCIENCES</td>\n",
       "      <td>NUTRITION AND DIETETICS</td>\n",
       "      <td>96.50</td>\n",
       "      <td>1</td>\n",
       "    </tr>\n",
       "    <tr>\n",
       "      <th>4</th>\n",
       "      <td>ITALIA</td>\n",
       "      <td>UNIVERSITA DEGLI STUDI DI ROMA LA SAPIENZA</td>\n",
       "      <td>FACULTY OF ARTS AND SCIENCES</td>\n",
       "      <td>ENGLISH LANGUAGE AND LITERATURE</td>\n",
       "      <td>96.32</td>\n",
       "      <td>1</td>\n",
       "    </tr>\n",
       "  </tbody>\n",
       "</table>\n",
       "</div>"
      ],
      "text/plain": [
       "  Countries                                      Universities  \\\n",
       "0    ITALIA        UNIVERSITA DEGLI STUDI DI ROMA LA SAPIENZA   \n",
       "1    ITALIA      ALMA MATER STUDIORUM - UNIVERSITA DI BOLOGNA   \n",
       "2    GERMAN                            UNIVERSITAET BIELEFELD   \n",
       "3    GERMAN  HOCHSCHULE FUR ANGEWANDTE WISSENSCHAFTEN HAMBURG   \n",
       "4    ITALIA       UNIVERSITA DEGLI STUDI DI ROMA LA SAPIENZA    \n",
       "\n",
       "                      Faculties                      Departments  Exam score  \\\n",
       "0  FACULTY OF ARTS AND SCIENCES  ENGLISH LANGUAGE AND LITERATURE       98.50   \n",
       "1  FACULTY OF ARTS AND SCIENCES                        SOCIOLOGY       97.10   \n",
       "2  FACULTY OF ARTS AND SCIENCES                       PSYCHOLOGY       96.80   \n",
       "3    FACULTY OF HEALTH SCIENCES          NUTRITION AND DIETETICS       96.50   \n",
       "4  FACULTY OF ARTS AND SCIENCES  ENGLISH LANGUAGE AND LITERATURE       96.32   \n",
       "\n",
       "   Grant  \n",
       "0      1  \n",
       "1      1  \n",
       "2      1  \n",
       "3      1  \n",
       "4      1  "
      ]
     },
     "execution_count": 423,
     "metadata": {},
     "output_type": "execute_result"
    }
   ],
   "source": [
    "data.head()"
   ]
  },
  {
   "cell_type": "code",
   "execution_count": 424,
   "id": "2bd28371-47f9-472f-a9aa-93e9fdcfcf03",
   "metadata": {},
   "outputs": [
    {
     "data": {
      "text/plain": [
       "Countries\n",
       "IRELAND           93.276667\n",
       "BULGARIA          91.500000\n",
       "FINLAND           88.443333\n",
       "SWEDISH           85.970000\n",
       "GREECE            83.954000\n",
       "LITHUANIA         83.297143\n",
       "SLOVENIA          82.626667\n",
       "FRANCE            81.274783\n",
       "ITALIA            80.934583\n",
       "SPAIN             79.515000\n",
       "DUTCH             79.455161\n",
       "GERMAN            78.954030\n",
       "DENMARK           78.830000\n",
       "POLAND            77.913111\n",
       "ROMANIA           77.770000\n",
       "BELGIUM           76.869231\n",
       "AUSTRIA           76.702308\n",
       "HUNGARY           76.640909\n",
       "NORWAY            74.770000\n",
       "PORTUGUESE        73.864286\n",
       "CZECH REPUBLIC    72.192500\n",
       "CROATIA           65.533333\n",
       "Name: Exam score, dtype: float64"
      ]
     },
     "execution_count": 424,
     "metadata": {},
     "output_type": "execute_result"
    }
   ],
   "source": [
    "data.groupby(\"Countries\")[\"Exam score\"].mean().sort_values(ascending=False)"
   ]
  },
  {
   "cell_type": "code",
   "execution_count": 425,
   "id": "e6149a96-eb71-47ce-8d04-f60b41189b53",
   "metadata": {},
   "outputs": [
    {
     "data": {
      "text/plain": [
       "Countries\n",
       "IRELAND     93.276667\n",
       "BULGARIA    91.500000\n",
       "FINLAND     88.443333\n",
       "SWEDISH     85.970000\n",
       "GREECE      83.954000\n",
       "Name: Exam score, dtype: float64"
      ]
     },
     "execution_count": 425,
     "metadata": {},
     "output_type": "execute_result"
    }
   ],
   "source": [
    "data.groupby(\"Countries\")[\"Exam score\"].mean().sort_values(ascending=False).head()"
   ]
  },
  {
   "cell_type": "code",
   "execution_count": 426,
   "id": "19a53ce3-9713-46bf-abd4-7ba41fe51394",
   "metadata": {},
   "outputs": [],
   "source": [
    "import matplotlib.pyplot as plt"
   ]
  },
  {
   "cell_type": "code",
   "execution_count": 427,
   "id": "d69272b6-cefe-40c0-ab3c-35a267ead0c4",
   "metadata": {},
   "outputs": [
    {
     "data": {
      "image/png": "[encoded data removed]",
      "text/plain": [
       "<Figure size 640x480 with 1 Axes>"
      ]
     },
     "metadata": {},
     "output_type": "display_data"
    }
   ],
   "source": [
    "data.groupby(\"Countries\")[\"Exam score\"].mean().sort_values(ascending=False).head(8).plot(kind=\"bar\")\n",
    "plt.ylabel(\"Average Exam Scores\")\n",
    "plt.title(\"Top Average Exam Scores by Country\")\n",
    "plt.show()"
   ]
  },
  {
   "cell_type": "code",
   "execution_count": 428,
   "id": "094b09a6-5a13-463c-8199-1b93cfeb5d61",
   "metadata": {},
   "outputs": [
    {
     "data": {
      "text/plain": [
       "Countries\n",
       "CROATIA           65.533333\n",
       "CZECH REPUBLIC    72.192500\n",
       "PORTUGUESE        73.864286\n",
       "NORWAY            74.770000\n",
       "HUNGARY           76.640909\n",
       "AUSTRIA           76.702308\n",
       "BELGIUM           76.869231\n",
       "ROMANIA           77.770000\n",
       "POLAND            77.913111\n",
       "DENMARK           78.830000\n",
       "GERMAN            78.954030\n",
       "DUTCH             79.455161\n",
       "SPAIN             79.515000\n",
       "ITALIA            80.934583\n",
       "FRANCE            81.274783\n",
       "SLOVENIA          82.626667\n",
       "LITHUANIA         83.297143\n",
       "GREECE            83.954000\n",
       "SWEDISH           85.970000\n",
       "FINLAND           88.443333\n",
       "BULGARIA          91.500000\n",
       "IRELAND           93.276667\n",
       "Name: Exam score, dtype: float64"
      ]
     },
     "execution_count": 428,
     "metadata": {},
     "output_type": "execute_result"
    }
   ],
   "source": [
    "data.groupby(\"Countries\")[\"Exam score\"].mean().sort_values(ascending=True)"
   ]
  },
  {
   "cell_type": "code",
   "execution_count": 429,
   "id": "16bd4dd7-c21a-4714-9c99-912bd3026459",
   "metadata": {},
   "outputs": [
    {
     "data": {
      "text/html": [
       "<div>\n",
       "<style scoped>\n",
       "    .dataframe tbody tr th:only-of-type {\n",
       "        vertical-align: middle;\n",
       "    }\n",
       "\n",
       "    .dataframe tbody tr th {\n",
       "        vertical-align: top;\n",
       "    }\n",
       "\n",
       "    .dataframe thead th {\n",
       "        text-align: right;\n",
       "    }\n",
       "</style>\n",
       "<table border=\"1\" class=\"dataframe\">\n",
       "  <thead>\n",
       "    <tr style=\"text-align: right;\">\n",
       "      <th></th>\n",
       "      <th>Countries</th>\n",
       "      <th>Universities</th>\n",
       "      <th>Faculties</th>\n",
       "      <th>Departments</th>\n",
       "      <th>Exam score</th>\n",
       "      <th>Grant</th>\n",
       "    </tr>\n",
       "  </thead>\n",
       "  <tbody>\n",
       "    <tr>\n",
       "      <th>0</th>\n",
       "      <td>ITALIA</td>\n",
       "      <td>UNIVERSITA DEGLI STUDI DI ROMA LA SAPIENZA</td>\n",
       "      <td>FACULTY OF ARTS AND SCIENCES</td>\n",
       "      <td>ENGLISH LANGUAGE AND LITERATURE</td>\n",
       "      <td>98.50</td>\n",
       "      <td>1</td>\n",
       "    </tr>\n",
       "    <tr>\n",
       "      <th>1</th>\n",
       "      <td>ITALIA</td>\n",
       "      <td>ALMA MATER STUDIORUM - UNIVERSITA DI BOLOGNA</td>\n",
       "      <td>FACULTY OF ARTS AND SCIENCES</td>\n",
       "      <td>SOCIOLOGY</td>\n",
       "      <td>97.10</td>\n",
       "      <td>1</td>\n",
       "    </tr>\n",
       "    <tr>\n",
       "      <th>2</th>\n",
       "      <td>GERMAN</td>\n",
       "      <td>UNIVERSITAET BIELEFELD</td>\n",
       "      <td>FACULTY OF ARTS AND SCIENCES</td>\n",
       "      <td>PSYCHOLOGY</td>\n",
       "      <td>96.80</td>\n",
       "      <td>1</td>\n",
       "    </tr>\n",
       "    <tr>\n",
       "      <th>3</th>\n",
       "      <td>GERMAN</td>\n",
       "      <td>HOCHSCHULE FUR ANGEWANDTE WISSENSCHAFTEN HAMBURG</td>\n",
       "      <td>FACULTY OF HEALTH SCIENCES</td>\n",
       "      <td>NUTRITION AND DIETETICS</td>\n",
       "      <td>96.50</td>\n",
       "      <td>1</td>\n",
       "    </tr>\n",
       "    <tr>\n",
       "      <th>4</th>\n",
       "      <td>ITALIA</td>\n",
       "      <td>UNIVERSITA DEGLI STUDI DI ROMA LA SAPIENZA</td>\n",
       "      <td>FACULTY OF ARTS AND SCIENCES</td>\n",
       "      <td>ENGLISH LANGUAGE AND LITERATURE</td>\n",
       "      <td>96.32</td>\n",
       "      <td>1</td>\n",
       "    </tr>\n",
       "  </tbody>\n",
       "</table>\n",
       "</div>"
      ],
      "text/plain": [
       "  Countries                                      Universities  \\\n",
       "0    ITALIA        UNIVERSITA DEGLI STUDI DI ROMA LA SAPIENZA   \n",
       "1    ITALIA      ALMA MATER STUDIORUM - UNIVERSITA DI BOLOGNA   \n",
       "2    GERMAN                            UNIVERSITAET BIELEFELD   \n",
       "3    GERMAN  HOCHSCHULE FUR ANGEWANDTE WISSENSCHAFTEN HAMBURG   \n",
       "4    ITALIA       UNIVERSITA DEGLI STUDI DI ROMA LA SAPIENZA    \n",
       "\n",
       "                      Faculties                      Departments  Exam score  \\\n",
       "0  FACULTY OF ARTS AND SCIENCES  ENGLISH LANGUAGE AND LITERATURE       98.50   \n",
       "1  FACULTY OF ARTS AND SCIENCES                        SOCIOLOGY       97.10   \n",
       "2  FACULTY OF ARTS AND SCIENCES                       PSYCHOLOGY       96.80   \n",
       "3    FACULTY OF HEALTH SCIENCES          NUTRITION AND DIETETICS       96.50   \n",
       "4  FACULTY OF ARTS AND SCIENCES  ENGLISH LANGUAGE AND LITERATURE       96.32   \n",
       "\n",
       "   Grant  \n",
       "0      1  \n",
       "1      1  \n",
       "2      1  \n",
       "3      1  \n",
       "4      1  "
      ]
     },
     "execution_count": 429,
     "metadata": {},
     "output_type": "execute_result"
    }
   ],
   "source": [
    "data.head()"
   ]
  },
  {
   "cell_type": "code",
   "execution_count": 430,
   "id": "262863d1-c66e-4624-bec4-1b6874c862ce",
   "metadata": {},
   "outputs": [
    {
     "data": {
      "text/plain": [
       "Departments\n",
       "ADVERTISING DESIGN AND COMMUNICATION                      72.037500\n",
       "AGRICULTURAL TRADE AND MANAGEMENT                         73.280000\n",
       "ARCHITECTURE                                              79.147778\n",
       "BIOMEDICAL ENGINEERING                                    71.880000\n",
       "BUSINESS ADMINISTRATION                                   74.209444\n",
       "CHEMICAL ENGINEERING                                      79.585000\n",
       "CIVIL ENGINEERING                                         73.883333\n",
       "COMPUTER ENGINEERING                                      83.224000\n",
       "E-COMMERCE MANAGEMENT                                     83.614286\n",
       "ECONOMICS                                                 74.732500\n",
       "ELECTRICAL & ELECTRONICS ENGINEERING                      78.300000\n",
       "ELEMENTARY MATHEMATICS EDUCATION                          67.750000\n",
       "ENGLISH LANGUAGE AND LITERATURE                           90.444167\n",
       "ENGLISH LANGUAGE TEACHING                                 83.643636\n",
       "FOOD ENGINEERING                                          72.913333\n",
       "GENETICS AND BIOENGINEERING                               81.463750\n",
       "GRAPHIC DESIGN                                            80.258000\n",
       "GUIDANCE AND PSYCHOLOGICAL COUNSELING                     78.400000\n",
       "HISTORY                                                   81.566667\n",
       "INDUSTRIAL DESIGN                                         86.485000\n",
       "INDUSTRIAL ENGINEERING                                    80.260833\n",
       "INFORMATION SECURITY TECHNOLOGY                           71.865000\n",
       "INFORMATION SYSTEMS AND TECHNOLOGIES                      80.612500\n",
       "INTERIOR ARCHITECTURE                                     77.845000\n",
       "INTERNATIONAL FINANCE                                     69.540000\n",
       "INTERNATIONAL TRADE AND BUSINESS                          75.877692\n",
       "INTERNATIONALES MANAGEMENT (DE)                           86.760000\n",
       "JOURNALISM                                                79.130000\n",
       "LAW                                                       77.287826\n",
       "LOGISTICS MANAGEMENT                                      66.120000\n",
       "MANAGEMENT INFORMATION SYSTEMS                            78.220909\n",
       "MATHEMATICS                                               82.000000\n",
       "MECHANICAL ENGINEERING                                    85.064000\n",
       "MEDICINE                                                  69.975000\n",
       "NURSING                                                   75.500000\n",
       "NUTRITION AND DIETETICS                                   84.320000\n",
       "PHARMACY                                                  80.928000\n",
       "PHILOSOPHY                                                85.040000\n",
       "PHYSICS                                                   76.620000\n",
       "PHYSIOTHERAPY AND REHABILITATION                          74.120000\n",
       "PLASTIC ARTS AND PAINTING                                 85.690000\n",
       "POLITICAL SCIENCE AND INTERNATIONAL RELATIONS             75.936667\n",
       "POLITICAL SCIENCE AND INTERNATIONAL RELATIONS (FRENCH)    81.720000\n",
       "PRICATE LAW                                               75.770000\n",
       "PSYCHOLOGY                                                83.597778\n",
       "PUBLIC ADMINISTRATION                                     75.400000\n",
       "PUBLIC RELATIONS AND PUBLICITY                            77.360000\n",
       "RADIO TELEVISION AND CINEMA                               77.781429\n",
       "SOCIOLOGY                                                 80.451667\n",
       "SOFTWARE DEVELOPMENT                                      78.360000\n",
       "SPECIAL EDUCATION TEACHING                                66.570000\n",
       "TEXTILE AND FASHION DESIGN                                71.250000\n",
       "TOURISM MANAGEMENT                                        93.045000\n",
       "TRANSLATION AND INTERPRETING STUDIES                      86.907143\n",
       "URBAN DESIGN AND LANDSCAPE ARCHITECTURE                   71.433333\n",
       "VISUAL COMMUNICATION AND DESIGN                           75.887778\n",
       "Name: Exam score, dtype: float64"
      ]
     },
     "execution_count": 430,
     "metadata": {},
     "output_type": "execute_result"
    }
   ],
   "source": [
    "data.groupby(\"Departments\")[\"Exam score\"].mean()"
   ]
  },
  {
   "cell_type": "code",
   "execution_count": 431,
   "id": "3da13b7c-1802-4b21-82c3-5d8f763dcdc1",
   "metadata": {},
   "outputs": [
    {
     "data": {
      "image/png": "[encoded data removed]",
      "text/plain": [
       "<Figure size 640x480 with 1 Axes>"
      ]
     },
     "metadata": {},
     "output_type": "display_data"
    }
   ],
   "source": [
    "data.groupby(\"Departments\")[\"Exam score\"].mean().sort_values(ascending = False).head(3).plot(kind=\"pie\")\n",
    "plt.ylabel(\"\")\n",
    "plt.title(\"Exams score by departments\")\n",
    "plt.show()"
   ]
  },
  {
   "cell_type": "code",
   "execution_count": 432,
   "id": "0e5ad611-2182-406e-9abe-cd7f72c7506a",
   "metadata": {},
   "outputs": [
    {
     "data": {
      "text/html": [
       "<div>\n",
       "<style scoped>\n",
       "    .dataframe tbody tr th:only-of-type {\n",
       "        vertical-align: middle;\n",
       "    }\n",
       "\n",
       "    .dataframe tbody tr th {\n",
       "        vertical-align: top;\n",
       "    }\n",
       "\n",
       "    .dataframe thead th {\n",
       "        text-align: right;\n",
       "    }\n",
       "</style>\n",
       "<table border=\"1\" class=\"dataframe\">\n",
       "  <thead>\n",
       "    <tr style=\"text-align: right;\">\n",
       "      <th></th>\n",
       "      <th>Countries</th>\n",
       "      <th>Universities</th>\n",
       "      <th>Faculties</th>\n",
       "      <th>Departments</th>\n",
       "      <th>Exam score</th>\n",
       "      <th>Grant</th>\n",
       "    </tr>\n",
       "  </thead>\n",
       "  <tbody>\n",
       "    <tr>\n",
       "      <th>0</th>\n",
       "      <td>ITALIA</td>\n",
       "      <td>UNIVERSITA DEGLI STUDI DI ROMA LA SAPIENZA</td>\n",
       "      <td>FACULTY OF ARTS AND SCIENCES</td>\n",
       "      <td>ENGLISH LANGUAGE AND LITERATURE</td>\n",
       "      <td>98.50</td>\n",
       "      <td>1</td>\n",
       "    </tr>\n",
       "    <tr>\n",
       "      <th>1</th>\n",
       "      <td>ITALIA</td>\n",
       "      <td>ALMA MATER STUDIORUM - UNIVERSITA DI BOLOGNA</td>\n",
       "      <td>FACULTY OF ARTS AND SCIENCES</td>\n",
       "      <td>SOCIOLOGY</td>\n",
       "      <td>97.10</td>\n",
       "      <td>1</td>\n",
       "    </tr>\n",
       "    <tr>\n",
       "      <th>2</th>\n",
       "      <td>GERMAN</td>\n",
       "      <td>UNIVERSITAET BIELEFELD</td>\n",
       "      <td>FACULTY OF ARTS AND SCIENCES</td>\n",
       "      <td>PSYCHOLOGY</td>\n",
       "      <td>96.80</td>\n",
       "      <td>1</td>\n",
       "    </tr>\n",
       "    <tr>\n",
       "      <th>3</th>\n",
       "      <td>GERMAN</td>\n",
       "      <td>HOCHSCHULE FUR ANGEWANDTE WISSENSCHAFTEN HAMBURG</td>\n",
       "      <td>FACULTY OF HEALTH SCIENCES</td>\n",
       "      <td>NUTRITION AND DIETETICS</td>\n",
       "      <td>96.50</td>\n",
       "      <td>1</td>\n",
       "    </tr>\n",
       "    <tr>\n",
       "      <th>4</th>\n",
       "      <td>ITALIA</td>\n",
       "      <td>UNIVERSITA DEGLI STUDI DI ROMA LA SAPIENZA</td>\n",
       "      <td>FACULTY OF ARTS AND SCIENCES</td>\n",
       "      <td>ENGLISH LANGUAGE AND LITERATURE</td>\n",
       "      <td>96.32</td>\n",
       "      <td>1</td>\n",
       "    </tr>\n",
       "  </tbody>\n",
       "</table>\n",
       "</div>"
      ],
      "text/plain": [
       "  Countries                                      Universities  \\\n",
       "0    ITALIA        UNIVERSITA DEGLI STUDI DI ROMA LA SAPIENZA   \n",
       "1    ITALIA      ALMA MATER STUDIORUM - UNIVERSITA DI BOLOGNA   \n",
       "2    GERMAN                            UNIVERSITAET BIELEFELD   \n",
       "3    GERMAN  HOCHSCHULE FUR ANGEWANDTE WISSENSCHAFTEN HAMBURG   \n",
       "4    ITALIA       UNIVERSITA DEGLI STUDI DI ROMA LA SAPIENZA    \n",
       "\n",
       "                      Faculties                      Departments  Exam score  \\\n",
       "0  FACULTY OF ARTS AND SCIENCES  ENGLISH LANGUAGE AND LITERATURE       98.50   \n",
       "1  FACULTY OF ARTS AND SCIENCES                        SOCIOLOGY       97.10   \n",
       "2  FACULTY OF ARTS AND SCIENCES                       PSYCHOLOGY       96.80   \n",
       "3    FACULTY OF HEALTH SCIENCES          NUTRITION AND DIETETICS       96.50   \n",
       "4  FACULTY OF ARTS AND SCIENCES  ENGLISH LANGUAGE AND LITERATURE       96.32   \n",
       "\n",
       "   Grant  \n",
       "0      1  \n",
       "1      1  \n",
       "2      1  \n",
       "3      1  \n",
       "4      1  "
      ]
     },
     "execution_count": 432,
     "metadata": {},
     "output_type": "execute_result"
    }
   ],
   "source": [
    "data.head()"
   ]
  },
  {
   "cell_type": "code",
   "execution_count": 433,
   "id": "15e7fdd7-11aa-4e92-894b-f1a998a23d19",
   "metadata": {},
   "outputs": [
    {
     "data": {
      "text/html": [
       "<div>\n",
       "<style scoped>\n",
       "    .dataframe tbody tr th:only-of-type {\n",
       "        vertical-align: middle;\n",
       "    }\n",
       "\n",
       "    .dataframe tbody tr th {\n",
       "        vertical-align: top;\n",
       "    }\n",
       "\n",
       "    .dataframe thead th {\n",
       "        text-align: right;\n",
       "    }\n",
       "</style>\n",
       "<table border=\"1\" class=\"dataframe\">\n",
       "  <thead>\n",
       "    <tr style=\"text-align: right;\">\n",
       "      <th></th>\n",
       "      <th>Countries</th>\n",
       "      <th>Grant</th>\n",
       "      <th>Exam score</th>\n",
       "    </tr>\n",
       "  </thead>\n",
       "  <tbody>\n",
       "    <tr>\n",
       "      <th>0</th>\n",
       "      <td>AUSTRIA</td>\n",
       "      <td>0</td>\n",
       "      <td>71.373333</td>\n",
       "    </tr>\n",
       "    <tr>\n",
       "      <th>1</th>\n",
       "      <td>AUSTRIA</td>\n",
       "      <td>1</td>\n",
       "      <td>88.692500</td>\n",
       "    </tr>\n",
       "    <tr>\n",
       "      <th>2</th>\n",
       "      <td>BELGIUM</td>\n",
       "      <td>0</td>\n",
       "      <td>71.215714</td>\n",
       "    </tr>\n",
       "    <tr>\n",
       "      <th>3</th>\n",
       "      <td>BELGIUM</td>\n",
       "      <td>1</td>\n",
       "      <td>83.465000</td>\n",
       "    </tr>\n",
       "    <tr>\n",
       "      <th>4</th>\n",
       "      <td>BULGARIA</td>\n",
       "      <td>1</td>\n",
       "      <td>91.500000</td>\n",
       "    </tr>\n",
       "    <tr>\n",
       "      <th>5</th>\n",
       "      <td>CROATIA</td>\n",
       "      <td>0</td>\n",
       "      <td>65.533333</td>\n",
       "    </tr>\n",
       "    <tr>\n",
       "      <th>6</th>\n",
       "      <td>CZECH REPUBLIC</td>\n",
       "      <td>0</td>\n",
       "      <td>72.192500</td>\n",
       "    </tr>\n",
       "    <tr>\n",
       "      <th>7</th>\n",
       "      <td>DENMARK</td>\n",
       "      <td>0</td>\n",
       "      <td>75.910000</td>\n",
       "    </tr>\n",
       "    <tr>\n",
       "      <th>8</th>\n",
       "      <td>DENMARK</td>\n",
       "      <td>1</td>\n",
       "      <td>83.210000</td>\n",
       "    </tr>\n",
       "    <tr>\n",
       "      <th>9</th>\n",
       "      <td>DUTCH</td>\n",
       "      <td>0</td>\n",
       "      <td>73.548529</td>\n",
       "    </tr>\n",
       "    <tr>\n",
       "      <th>10</th>\n",
       "      <td>DUTCH</td>\n",
       "      <td>1</td>\n",
       "      <td>86.627500</td>\n",
       "    </tr>\n",
       "    <tr>\n",
       "      <th>11</th>\n",
       "      <td>FINLAND</td>\n",
       "      <td>0</td>\n",
       "      <td>77.080000</td>\n",
       "    </tr>\n",
       "    <tr>\n",
       "      <th>12</th>\n",
       "      <td>FINLAND</td>\n",
       "      <td>1</td>\n",
       "      <td>94.125000</td>\n",
       "    </tr>\n",
       "    <tr>\n",
       "      <th>13</th>\n",
       "      <td>FRANCE</td>\n",
       "      <td>0</td>\n",
       "      <td>75.866923</td>\n",
       "    </tr>\n",
       "    <tr>\n",
       "      <th>14</th>\n",
       "      <td>FRANCE</td>\n",
       "      <td>1</td>\n",
       "      <td>88.305000</td>\n",
       "    </tr>\n",
       "    <tr>\n",
       "      <th>15</th>\n",
       "      <td>GERMAN</td>\n",
       "      <td>0</td>\n",
       "      <td>74.269250</td>\n",
       "    </tr>\n",
       "    <tr>\n",
       "      <th>16</th>\n",
       "      <td>GERMAN</td>\n",
       "      <td>1</td>\n",
       "      <td>85.894444</td>\n",
       "    </tr>\n",
       "    <tr>\n",
       "      <th>17</th>\n",
       "      <td>GREECE</td>\n",
       "      <td>0</td>\n",
       "      <td>73.650000</td>\n",
       "    </tr>\n",
       "    <tr>\n",
       "      <th>18</th>\n",
       "      <td>GREECE</td>\n",
       "      <td>1</td>\n",
       "      <td>90.823333</td>\n",
       "    </tr>\n",
       "    <tr>\n",
       "      <th>19</th>\n",
       "      <td>HUNGARY</td>\n",
       "      <td>0</td>\n",
       "      <td>74.184286</td>\n",
       "    </tr>\n",
       "    <tr>\n",
       "      <th>20</th>\n",
       "      <td>HUNGARY</td>\n",
       "      <td>1</td>\n",
       "      <td>80.940000</td>\n",
       "    </tr>\n",
       "    <tr>\n",
       "      <th>21</th>\n",
       "      <td>IRELAND</td>\n",
       "      <td>1</td>\n",
       "      <td>93.276667</td>\n",
       "    </tr>\n",
       "    <tr>\n",
       "      <th>22</th>\n",
       "      <td>ITALIA</td>\n",
       "      <td>0</td>\n",
       "      <td>74.544167</td>\n",
       "    </tr>\n",
       "    <tr>\n",
       "      <th>23</th>\n",
       "      <td>ITALIA</td>\n",
       "      <td>1</td>\n",
       "      <td>87.325000</td>\n",
       "    </tr>\n",
       "    <tr>\n",
       "      <th>24</th>\n",
       "      <td>LITHUANIA</td>\n",
       "      <td>0</td>\n",
       "      <td>74.060000</td>\n",
       "    </tr>\n",
       "    <tr>\n",
       "      <th>25</th>\n",
       "      <td>LITHUANIA</td>\n",
       "      <td>1</td>\n",
       "      <td>84.836667</td>\n",
       "    </tr>\n",
       "    <tr>\n",
       "      <th>26</th>\n",
       "      <td>NORWAY</td>\n",
       "      <td>0</td>\n",
       "      <td>74.770000</td>\n",
       "    </tr>\n",
       "    <tr>\n",
       "      <th>27</th>\n",
       "      <td>POLAND</td>\n",
       "      <td>0</td>\n",
       "      <td>72.938462</td>\n",
       "    </tr>\n",
       "    <tr>\n",
       "      <th>28</th>\n",
       "      <td>POLAND</td>\n",
       "      <td>1</td>\n",
       "      <td>84.720526</td>\n",
       "    </tr>\n",
       "    <tr>\n",
       "      <th>29</th>\n",
       "      <td>PORTUGUESE</td>\n",
       "      <td>0</td>\n",
       "      <td>71.754000</td>\n",
       "    </tr>\n",
       "    <tr>\n",
       "      <th>30</th>\n",
       "      <td>PORTUGUESE</td>\n",
       "      <td>1</td>\n",
       "      <td>79.140000</td>\n",
       "    </tr>\n",
       "    <tr>\n",
       "      <th>31</th>\n",
       "      <td>ROMANIA</td>\n",
       "      <td>0</td>\n",
       "      <td>76.618750</td>\n",
       "    </tr>\n",
       "    <tr>\n",
       "      <th>32</th>\n",
       "      <td>ROMANIA</td>\n",
       "      <td>1</td>\n",
       "      <td>82.375000</td>\n",
       "    </tr>\n",
       "    <tr>\n",
       "      <th>33</th>\n",
       "      <td>SLOVENIA</td>\n",
       "      <td>0</td>\n",
       "      <td>72.480000</td>\n",
       "    </tr>\n",
       "    <tr>\n",
       "      <th>34</th>\n",
       "      <td>SLOVENIA</td>\n",
       "      <td>1</td>\n",
       "      <td>87.700000</td>\n",
       "    </tr>\n",
       "    <tr>\n",
       "      <th>35</th>\n",
       "      <td>SPAIN</td>\n",
       "      <td>0</td>\n",
       "      <td>73.701538</td>\n",
       "    </tr>\n",
       "    <tr>\n",
       "      <th>36</th>\n",
       "      <td>SPAIN</td>\n",
       "      <td>1</td>\n",
       "      <td>85.328462</td>\n",
       "    </tr>\n",
       "    <tr>\n",
       "      <th>37</th>\n",
       "      <td>SWEDISH</td>\n",
       "      <td>0</td>\n",
       "      <td>84.380000</td>\n",
       "    </tr>\n",
       "    <tr>\n",
       "      <th>38</th>\n",
       "      <td>SWEDISH</td>\n",
       "      <td>1</td>\n",
       "      <td>86.765000</td>\n",
       "    </tr>\n",
       "  </tbody>\n",
       "</table>\n",
       "</div>"
      ],
      "text/plain": [
       "         Countries  Grant  Exam score\n",
       "0          AUSTRIA      0   71.373333\n",
       "1          AUSTRIA      1   88.692500\n",
       "2          BELGIUM      0   71.215714\n",
       "3          BELGIUM      1   83.465000\n",
       "4         BULGARIA      1   91.500000\n",
       "5          CROATIA      0   65.533333\n",
       "6   CZECH REPUBLIC      0   72.192500\n",
       "7          DENMARK      0   75.910000\n",
       "8          DENMARK      1   83.210000\n",
       "9            DUTCH      0   73.548529\n",
       "10           DUTCH      1   86.627500\n",
       "11         FINLAND      0   77.080000\n",
       "12         FINLAND      1   94.125000\n",
       "13          FRANCE      0   75.866923\n",
       "14          FRANCE      1   88.305000\n",
       "15          GERMAN      0   74.269250\n",
       "16          GERMAN      1   85.894444\n",
       "17          GREECE      0   73.650000\n",
       "18          GREECE      1   90.823333\n",
       "19         HUNGARY      0   74.184286\n",
       "20         HUNGARY      1   80.940000\n",
       "21         IRELAND      1   93.276667\n",
       "22          ITALIA      0   74.544167\n",
       "23          ITALIA      1   87.325000\n",
       "24       LITHUANIA      0   74.060000\n",
       "25       LITHUANIA      1   84.836667\n",
       "26          NORWAY      0   74.770000\n",
       "27          POLAND      0   72.938462\n",
       "28          POLAND      1   84.720526\n",
       "29      PORTUGUESE      0   71.754000\n",
       "30      PORTUGUESE      1   79.140000\n",
       "31         ROMANIA      0   76.618750\n",
       "32         ROMANIA      1   82.375000\n",
       "33        SLOVENIA      0   72.480000\n",
       "34        SLOVENIA      1   87.700000\n",
       "35           SPAIN      0   73.701538\n",
       "36           SPAIN      1   85.328462\n",
       "37         SWEDISH      0   84.380000\n",
       "38         SWEDISH      1   86.765000"
      ]
     },
     "execution_count": 433,
     "metadata": {},
     "output_type": "execute_result"
    }
   ],
   "source": [
    "data.groupby([\"Countries\",\"Grant\"])[\"Exam score\"].mean().reset_index()"
   ]
  },
  {
   "cell_type": "code",
   "execution_count": 434,
   "id": "1457a331-ba29-4e95-bcbe-a0ea5b519f7d",
   "metadata": {},
   "outputs": [
    {
     "data": {
      "text/html": [
       "<div>\n",
       "<style scoped>\n",
       "    .dataframe tbody tr th:only-of-type {\n",
       "        vertical-align: middle;\n",
       "    }\n",
       "\n",
       "    .dataframe tbody tr th {\n",
       "        vertical-align: top;\n",
       "    }\n",
       "\n",
       "    .dataframe thead th {\n",
       "        text-align: right;\n",
       "    }\n",
       "</style>\n",
       "<table border=\"1\" class=\"dataframe\">\n",
       "  <thead>\n",
       "    <tr style=\"text-align: right;\">\n",
       "      <th></th>\n",
       "      <th>Countries</th>\n",
       "      <th>Universities</th>\n",
       "      <th>Faculties</th>\n",
       "      <th>Departments</th>\n",
       "      <th>Exam score</th>\n",
       "      <th>Grant</th>\n",
       "    </tr>\n",
       "  </thead>\n",
       "  <tbody>\n",
       "    <tr>\n",
       "      <th>0</th>\n",
       "      <td>ITALIA</td>\n",
       "      <td>UNIVERSITA DEGLI STUDI DI ROMA LA SAPIENZA</td>\n",
       "      <td>FACULTY OF ARTS AND SCIENCES</td>\n",
       "      <td>ENGLISH LANGUAGE AND LITERATURE</td>\n",
       "      <td>98.50</td>\n",
       "      <td>1</td>\n",
       "    </tr>\n",
       "    <tr>\n",
       "      <th>1</th>\n",
       "      <td>ITALIA</td>\n",
       "      <td>ALMA MATER STUDIORUM - UNIVERSITA DI BOLOGNA</td>\n",
       "      <td>FACULTY OF ARTS AND SCIENCES</td>\n",
       "      <td>SOCIOLOGY</td>\n",
       "      <td>97.10</td>\n",
       "      <td>1</td>\n",
       "    </tr>\n",
       "    <tr>\n",
       "      <th>2</th>\n",
       "      <td>GERMAN</td>\n",
       "      <td>UNIVERSITAET BIELEFELD</td>\n",
       "      <td>FACULTY OF ARTS AND SCIENCES</td>\n",
       "      <td>PSYCHOLOGY</td>\n",
       "      <td>96.80</td>\n",
       "      <td>1</td>\n",
       "    </tr>\n",
       "    <tr>\n",
       "      <th>3</th>\n",
       "      <td>GERMAN</td>\n",
       "      <td>HOCHSCHULE FUR ANGEWANDTE WISSENSCHAFTEN HAMBURG</td>\n",
       "      <td>FACULTY OF HEALTH SCIENCES</td>\n",
       "      <td>NUTRITION AND DIETETICS</td>\n",
       "      <td>96.50</td>\n",
       "      <td>1</td>\n",
       "    </tr>\n",
       "    <tr>\n",
       "      <th>4</th>\n",
       "      <td>ITALIA</td>\n",
       "      <td>UNIVERSITA DEGLI STUDI DI ROMA LA SAPIENZA</td>\n",
       "      <td>FACULTY OF ARTS AND SCIENCES</td>\n",
       "      <td>ENGLISH LANGUAGE AND LITERATURE</td>\n",
       "      <td>96.32</td>\n",
       "      <td>1</td>\n",
       "    </tr>\n",
       "  </tbody>\n",
       "</table>\n",
       "</div>"
      ],
      "text/plain": [
       "  Countries                                      Universities  \\\n",
       "0    ITALIA        UNIVERSITA DEGLI STUDI DI ROMA LA SAPIENZA   \n",
       "1    ITALIA      ALMA MATER STUDIORUM - UNIVERSITA DI BOLOGNA   \n",
       "2    GERMAN                            UNIVERSITAET BIELEFELD   \n",
       "3    GERMAN  HOCHSCHULE FUR ANGEWANDTE WISSENSCHAFTEN HAMBURG   \n",
       "4    ITALIA       UNIVERSITA DEGLI STUDI DI ROMA LA SAPIENZA    \n",
       "\n",
       "                      Faculties                      Departments  Exam score  \\\n",
       "0  FACULTY OF ARTS AND SCIENCES  ENGLISH LANGUAGE AND LITERATURE       98.50   \n",
       "1  FACULTY OF ARTS AND SCIENCES                        SOCIOLOGY       97.10   \n",
       "2  FACULTY OF ARTS AND SCIENCES                       PSYCHOLOGY       96.80   \n",
       "3    FACULTY OF HEALTH SCIENCES          NUTRITION AND DIETETICS       96.50   \n",
       "4  FACULTY OF ARTS AND SCIENCES  ENGLISH LANGUAGE AND LITERATURE       96.32   \n",
       "\n",
       "   Grant  \n",
       "0      1  \n",
       "1      1  \n",
       "2      1  \n",
       "3      1  \n",
       "4      1  "
      ]
     },
     "execution_count": 434,
     "metadata": {},
     "output_type": "execute_result"
    }
   ],
   "source": [
    "data.head()"
   ]
  },
  {
   "cell_type": "code",
   "execution_count": 435,
   "id": "07a23279-b743-4d54-b620-d47ae3eda492",
   "metadata": {},
   "outputs": [],
   "source": [
    "X = data[[\"Countries\",\"Departments\",\"Exam score\"]]\n",
    "y = data[[\"Grant\"]]"
   ]
  },
  {
   "cell_type": "code",
   "execution_count": 436,
   "id": "2e9d1844-7814-4beb-bcf3-e3f87efeb47e",
   "metadata": {},
   "outputs": [
    {
     "data": {
      "text/html": [
       "<div>\n",
       "<style scoped>\n",
       "    .dataframe tbody tr th:only-of-type {\n",
       "        vertical-align: middle;\n",
       "    }\n",
       "\n",
       "    .dataframe tbody tr th {\n",
       "        vertical-align: top;\n",
       "    }\n",
       "\n",
       "    .dataframe thead th {\n",
       "        text-align: right;\n",
       "    }\n",
       "</style>\n",
       "<table border=\"1\" class=\"dataframe\">\n",
       "  <thead>\n",
       "    <tr style=\"text-align: right;\">\n",
       "      <th></th>\n",
       "      <th>Countries</th>\n",
       "      <th>Departments</th>\n",
       "      <th>Exam score</th>\n",
       "    </tr>\n",
       "  </thead>\n",
       "  <tbody>\n",
       "    <tr>\n",
       "      <th>0</th>\n",
       "      <td>ITALIA</td>\n",
       "      <td>ENGLISH LANGUAGE AND LITERATURE</td>\n",
       "      <td>98.50</td>\n",
       "    </tr>\n",
       "    <tr>\n",
       "      <th>1</th>\n",
       "      <td>ITALIA</td>\n",
       "      <td>SOCIOLOGY</td>\n",
       "      <td>97.10</td>\n",
       "    </tr>\n",
       "    <tr>\n",
       "      <th>2</th>\n",
       "      <td>GERMAN</td>\n",
       "      <td>PSYCHOLOGY</td>\n",
       "      <td>96.80</td>\n",
       "    </tr>\n",
       "    <tr>\n",
       "      <th>3</th>\n",
       "      <td>GERMAN</td>\n",
       "      <td>NUTRITION AND DIETETICS</td>\n",
       "      <td>96.50</td>\n",
       "    </tr>\n",
       "    <tr>\n",
       "      <th>4</th>\n",
       "      <td>ITALIA</td>\n",
       "      <td>ENGLISH LANGUAGE AND LITERATURE</td>\n",
       "      <td>96.32</td>\n",
       "    </tr>\n",
       "    <tr>\n",
       "      <th>...</th>\n",
       "      <td>...</td>\n",
       "      <td>...</td>\n",
       "      <td>...</td>\n",
       "    </tr>\n",
       "    <tr>\n",
       "      <th>336</th>\n",
       "      <td>DUTCH</td>\n",
       "      <td>POLITICAL SCIENCE AND INTERNATIONAL RELATIONS</td>\n",
       "      <td>62.13</td>\n",
       "    </tr>\n",
       "    <tr>\n",
       "      <th>337</th>\n",
       "      <td>POLAND</td>\n",
       "      <td>CIVIL ENGINEERING</td>\n",
       "      <td>61.63</td>\n",
       "    </tr>\n",
       "    <tr>\n",
       "      <th>338</th>\n",
       "      <td>BELGIUM</td>\n",
       "      <td>INTERNATIONAL FINANCE</td>\n",
       "      <td>59.93</td>\n",
       "    </tr>\n",
       "    <tr>\n",
       "      <th>339</th>\n",
       "      <td>DUTCH</td>\n",
       "      <td>ADVERTISING DESIGN AND COMMUNICATION</td>\n",
       "      <td>56.58</td>\n",
       "    </tr>\n",
       "    <tr>\n",
       "      <th>340</th>\n",
       "      <td>GERMAN</td>\n",
       "      <td>MEDICINE</td>\n",
       "      <td>51.40</td>\n",
       "    </tr>\n",
       "  </tbody>\n",
       "</table>\n",
       "<p>339 rows × 3 columns</p>\n",
       "</div>"
      ],
      "text/plain": [
       "    Countries                                    Departments  Exam score\n",
       "0      ITALIA                ENGLISH LANGUAGE AND LITERATURE       98.50\n",
       "1      ITALIA                                      SOCIOLOGY       97.10\n",
       "2      GERMAN                                     PSYCHOLOGY       96.80\n",
       "3      GERMAN                        NUTRITION AND DIETETICS       96.50\n",
       "4      ITALIA                ENGLISH LANGUAGE AND LITERATURE       96.32\n",
       "..        ...                                            ...         ...\n",
       "336     DUTCH  POLITICAL SCIENCE AND INTERNATIONAL RELATIONS       62.13\n",
       "337    POLAND                              CIVIL ENGINEERING       61.63\n",
       "338   BELGIUM                          INTERNATIONAL FINANCE       59.93\n",
       "339     DUTCH           ADVERTISING DESIGN AND COMMUNICATION       56.58\n",
       "340    GERMAN                                       MEDICINE       51.40\n",
       "\n",
       "[339 rows x 3 columns]"
      ]
     },
     "execution_count": 436,
     "metadata": {},
     "output_type": "execute_result"
    }
   ],
   "source": [
    "X"
   ]
  },
  {
   "cell_type": "code",
   "execution_count": 437,
   "id": "f47e5a83-e5a7-4714-8450-0b80d66bf67b",
   "metadata": {},
   "outputs": [],
   "source": [
    "from sklearn import preprocessing\n",
    "labelencoder = preprocessing.LabelEncoder()"
   ]
  },
  {
   "cell_type": "code",
   "execution_count": 438,
   "id": "7e13a82c-90e7-4905-a890-ffab4e1f3885",
   "metadata": {},
   "outputs": [
    {
     "name": "stderr",
     "output_type": "stream",
     "text": [
      "C:\\Users\\hp\\AppData\\Local\\Temp\\ipykernel_5404\\509548991.py:1: SettingWithCopyWarning: \n",
      "A value is trying to be set on a copy of a slice from a DataFrame.\n",
      "Try using .loc[row_indexer,col_indexer] = value instead\n",
      "\n",
      "See the caveats in the documentation: https://pandas.pydata.org/pandas-docs/stable/user_guide/indexing.html#returning-a-view-versus-a-copy\n",
      "  X[\"Countries\"] = labelencoder.fit_transform(data[\"Countries\"])\n"
     ]
    }
   ],
   "source": [
    "X[\"Countries\"] = labelencoder.fit_transform(data[\"Countries\"])"
   ]
  },
  {
   "cell_type": "code",
   "execution_count": 439,
   "id": "f3bc3b5b-cab8-423b-b742-24daf3f47398",
   "metadata": {},
   "outputs": [
    {
     "data": {
      "text/html": [
       "<div>\n",
       "<style scoped>\n",
       "    .dataframe tbody tr th:only-of-type {\n",
       "        vertical-align: middle;\n",
       "    }\n",
       "\n",
       "    .dataframe tbody tr th {\n",
       "        vertical-align: top;\n",
       "    }\n",
       "\n",
       "    .dataframe thead th {\n",
       "        text-align: right;\n",
       "    }\n",
       "</style>\n",
       "<table border=\"1\" class=\"dataframe\">\n",
       "  <thead>\n",
       "    <tr style=\"text-align: right;\">\n",
       "      <th></th>\n",
       "      <th>Countries</th>\n",
       "      <th>Departments</th>\n",
       "      <th>Exam score</th>\n",
       "    </tr>\n",
       "  </thead>\n",
       "  <tbody>\n",
       "    <tr>\n",
       "      <th>0</th>\n",
       "      <td>13</td>\n",
       "      <td>ENGLISH LANGUAGE AND LITERATURE</td>\n",
       "      <td>98.50</td>\n",
       "    </tr>\n",
       "    <tr>\n",
       "      <th>1</th>\n",
       "      <td>13</td>\n",
       "      <td>SOCIOLOGY</td>\n",
       "      <td>97.10</td>\n",
       "    </tr>\n",
       "    <tr>\n",
       "      <th>2</th>\n",
       "      <td>9</td>\n",
       "      <td>PSYCHOLOGY</td>\n",
       "      <td>96.80</td>\n",
       "    </tr>\n",
       "    <tr>\n",
       "      <th>3</th>\n",
       "      <td>9</td>\n",
       "      <td>NUTRITION AND DIETETICS</td>\n",
       "      <td>96.50</td>\n",
       "    </tr>\n",
       "    <tr>\n",
       "      <th>4</th>\n",
       "      <td>13</td>\n",
       "      <td>ENGLISH LANGUAGE AND LITERATURE</td>\n",
       "      <td>96.32</td>\n",
       "    </tr>\n",
       "    <tr>\n",
       "      <th>...</th>\n",
       "      <td>...</td>\n",
       "      <td>...</td>\n",
       "      <td>...</td>\n",
       "    </tr>\n",
       "    <tr>\n",
       "      <th>336</th>\n",
       "      <td>6</td>\n",
       "      <td>POLITICAL SCIENCE AND INTERNATIONAL RELATIONS</td>\n",
       "      <td>62.13</td>\n",
       "    </tr>\n",
       "    <tr>\n",
       "      <th>337</th>\n",
       "      <td>16</td>\n",
       "      <td>CIVIL ENGINEERING</td>\n",
       "      <td>61.63</td>\n",
       "    </tr>\n",
       "    <tr>\n",
       "      <th>338</th>\n",
       "      <td>1</td>\n",
       "      <td>INTERNATIONAL FINANCE</td>\n",
       "      <td>59.93</td>\n",
       "    </tr>\n",
       "    <tr>\n",
       "      <th>339</th>\n",
       "      <td>6</td>\n",
       "      <td>ADVERTISING DESIGN AND COMMUNICATION</td>\n",
       "      <td>56.58</td>\n",
       "    </tr>\n",
       "    <tr>\n",
       "      <th>340</th>\n",
       "      <td>9</td>\n",
       "      <td>MEDICINE</td>\n",
       "      <td>51.40</td>\n",
       "    </tr>\n",
       "  </tbody>\n",
       "</table>\n",
       "<p>339 rows × 3 columns</p>\n",
       "</div>"
      ],
      "text/plain": [
       "     Countries                                    Departments  Exam score\n",
       "0           13                ENGLISH LANGUAGE AND LITERATURE       98.50\n",
       "1           13                                      SOCIOLOGY       97.10\n",
       "2            9                                     PSYCHOLOGY       96.80\n",
       "3            9                        NUTRITION AND DIETETICS       96.50\n",
       "4           13                ENGLISH LANGUAGE AND LITERATURE       96.32\n",
       "..         ...                                            ...         ...\n",
       "336          6  POLITICAL SCIENCE AND INTERNATIONAL RELATIONS       62.13\n",
       "337         16                              CIVIL ENGINEERING       61.63\n",
       "338          1                          INTERNATIONAL FINANCE       59.93\n",
       "339          6           ADVERTISING DESIGN AND COMMUNICATION       56.58\n",
       "340          9                                       MEDICINE       51.40\n",
       "\n",
       "[339 rows x 3 columns]"
      ]
     },
     "execution_count": 439,
     "metadata": {},
     "output_type": "execute_result"
    }
   ],
   "source": [
    "X"
   ]
  },
  {
   "cell_type": "code",
   "execution_count": 440,
   "id": "0f2721de-cb8b-4e65-a864-dfac5fdc749c",
   "metadata": {},
   "outputs": [
    {
     "data": {
      "text/plain": [
       "array(['AUSTRIA', 'BELGIUM', 'BULGARIA', 'CROATIA', 'CZECH REPUBLIC',\n",
       "       'DENMARK', 'DUTCH', 'FINLAND', 'FRANCE', 'GERMAN', 'GREECE',\n",
       "       'HUNGARY', 'IRELAND', 'ITALIA', 'LITHUANIA', 'NORWAY', 'POLAND',\n",
       "       'PORTUGUESE', 'ROMANIA', 'SLOVENIA', 'SPAIN', 'SWEDISH'],\n",
       "      dtype=object)"
      ]
     },
     "execution_count": 440,
     "metadata": {},
     "output_type": "execute_result"
    }
   ],
   "source": [
    "labelencoder.classes_"
   ]
  },
  {
   "cell_type": "code",
   "execution_count": 441,
   "id": "5f10b0af-71f9-4af5-90e8-cd4995265a47",
   "metadata": {},
   "outputs": [
    {
     "name": "stderr",
     "output_type": "stream",
     "text": [
      "C:\\Users\\hp\\AppData\\Local\\Temp\\ipykernel_5404\\3594981154.py:1: SettingWithCopyWarning: \n",
      "A value is trying to be set on a copy of a slice from a DataFrame.\n",
      "Try using .loc[row_indexer,col_indexer] = value instead\n",
      "\n",
      "See the caveats in the documentation: https://pandas.pydata.org/pandas-docs/stable/user_guide/indexing.html#returning-a-view-versus-a-copy\n",
      "  X[\"Departments\"] = labelencoder.fit_transform(X[\"Departments\"])\n"
     ]
    }
   ],
   "source": [
    "X[\"Departments\"] = labelencoder.fit_transform(X[\"Departments\"])"
   ]
  },
  {
   "cell_type": "code",
   "execution_count": 442,
   "id": "0b42c36d-6c91-4ae1-9e21-504feaff7cba",
   "metadata": {},
   "outputs": [
    {
     "data": {
      "text/html": [
       "<div>\n",
       "<style scoped>\n",
       "    .dataframe tbody tr th:only-of-type {\n",
       "        vertical-align: middle;\n",
       "    }\n",
       "\n",
       "    .dataframe tbody tr th {\n",
       "        vertical-align: top;\n",
       "    }\n",
       "\n",
       "    .dataframe thead th {\n",
       "        text-align: right;\n",
       "    }\n",
       "</style>\n",
       "<table border=\"1\" class=\"dataframe\">\n",
       "  <thead>\n",
       "    <tr style=\"text-align: right;\">\n",
       "      <th></th>\n",
       "      <th>Countries</th>\n",
       "      <th>Departments</th>\n",
       "      <th>Exam score</th>\n",
       "    </tr>\n",
       "  </thead>\n",
       "  <tbody>\n",
       "    <tr>\n",
       "      <th>0</th>\n",
       "      <td>13</td>\n",
       "      <td>12</td>\n",
       "      <td>98.50</td>\n",
       "    </tr>\n",
       "    <tr>\n",
       "      <th>1</th>\n",
       "      <td>13</td>\n",
       "      <td>48</td>\n",
       "      <td>97.10</td>\n",
       "    </tr>\n",
       "    <tr>\n",
       "      <th>2</th>\n",
       "      <td>9</td>\n",
       "      <td>44</td>\n",
       "      <td>96.80</td>\n",
       "    </tr>\n",
       "    <tr>\n",
       "      <th>3</th>\n",
       "      <td>9</td>\n",
       "      <td>35</td>\n",
       "      <td>96.50</td>\n",
       "    </tr>\n",
       "    <tr>\n",
       "      <th>4</th>\n",
       "      <td>13</td>\n",
       "      <td>12</td>\n",
       "      <td>96.32</td>\n",
       "    </tr>\n",
       "    <tr>\n",
       "      <th>...</th>\n",
       "      <td>...</td>\n",
       "      <td>...</td>\n",
       "      <td>...</td>\n",
       "    </tr>\n",
       "    <tr>\n",
       "      <th>336</th>\n",
       "      <td>6</td>\n",
       "      <td>41</td>\n",
       "      <td>62.13</td>\n",
       "    </tr>\n",
       "    <tr>\n",
       "      <th>337</th>\n",
       "      <td>16</td>\n",
       "      <td>6</td>\n",
       "      <td>61.63</td>\n",
       "    </tr>\n",
       "    <tr>\n",
       "      <th>338</th>\n",
       "      <td>1</td>\n",
       "      <td>24</td>\n",
       "      <td>59.93</td>\n",
       "    </tr>\n",
       "    <tr>\n",
       "      <th>339</th>\n",
       "      <td>6</td>\n",
       "      <td>0</td>\n",
       "      <td>56.58</td>\n",
       "    </tr>\n",
       "    <tr>\n",
       "      <th>340</th>\n",
       "      <td>9</td>\n",
       "      <td>33</td>\n",
       "      <td>51.40</td>\n",
       "    </tr>\n",
       "  </tbody>\n",
       "</table>\n",
       "<p>339 rows × 3 columns</p>\n",
       "</div>"
      ],
      "text/plain": [
       "     Countries  Departments  Exam score\n",
       "0           13           12       98.50\n",
       "1           13           48       97.10\n",
       "2            9           44       96.80\n",
       "3            9           35       96.50\n",
       "4           13           12       96.32\n",
       "..         ...          ...         ...\n",
       "336          6           41       62.13\n",
       "337         16            6       61.63\n",
       "338          1           24       59.93\n",
       "339          6            0       56.58\n",
       "340          9           33       51.40\n",
       "\n",
       "[339 rows x 3 columns]"
      ]
     },
     "execution_count": 442,
     "metadata": {},
     "output_type": "execute_result"
    }
   ],
   "source": [
    "X"
   ]
  },
  {
   "cell_type": "code",
   "execution_count": 443,
   "id": "529c2d88-b55f-4b8c-a6cd-69f79bbe2439",
   "metadata": {},
   "outputs": [
    {
     "data": {
      "text/plain": [
       "array(['ADVERTISING DESIGN AND COMMUNICATION',\n",
       "       'AGRICULTURAL TRADE AND MANAGEMENT', 'ARCHITECTURE',\n",
       "       'BIOMEDICAL ENGINEERING', 'BUSINESS ADMINISTRATION',\n",
       "       'CHEMICAL ENGINEERING', 'CIVIL ENGINEERING',\n",
       "       'COMPUTER ENGINEERING', 'E-COMMERCE MANAGEMENT', 'ECONOMICS',\n",
       "       'ELECTRICAL & ELECTRONICS ENGINEERING',\n",
       "       'ELEMENTARY MATHEMATICS EDUCATION',\n",
       "       'ENGLISH LANGUAGE AND LITERATURE', 'ENGLISH LANGUAGE TEACHING',\n",
       "       'FOOD ENGINEERING', 'GENETICS AND BIOENGINEERING ',\n",
       "       'GRAPHIC DESIGN', 'GUIDANCE AND PSYCHOLOGICAL COUNSELING',\n",
       "       'HISTORY', 'INDUSTRIAL DESIGN', 'INDUSTRIAL ENGINEERING',\n",
       "       'INFORMATION SECURITY TECHNOLOGY',\n",
       "       'INFORMATION SYSTEMS AND TECHNOLOGIES', 'INTERIOR ARCHITECTURE',\n",
       "       'INTERNATIONAL FINANCE', 'INTERNATIONAL TRADE AND BUSINESS',\n",
       "       'INTERNATIONALES MANAGEMENT (DE)', 'JOURNALISM', 'LAW',\n",
       "       'LOGISTICS MANAGEMENT', 'MANAGEMENT INFORMATION SYSTEMS',\n",
       "       'MATHEMATICS', 'MECHANICAL ENGINEERING', 'MEDICINE', 'NURSING',\n",
       "       'NUTRITION AND DIETETICS', 'PHARMACY', 'PHILOSOPHY', 'PHYSICS',\n",
       "       'PHYSIOTHERAPY AND REHABILITATION', 'PLASTIC ARTS AND PAINTING',\n",
       "       'POLITICAL SCIENCE AND INTERNATIONAL RELATIONS',\n",
       "       'POLITICAL SCIENCE AND INTERNATIONAL RELATIONS (FRENCH)',\n",
       "       'PRICATE LAW', 'PSYCHOLOGY', 'PUBLIC ADMINISTRATION',\n",
       "       'PUBLIC RELATIONS AND PUBLICITY', 'RADIO TELEVISION AND CINEMA',\n",
       "       'SOCIOLOGY', 'SOFTWARE DEVELOPMENT', 'SPECIAL EDUCATION TEACHING',\n",
       "       'TEXTILE AND FASHION DESIGN', 'TOURISM MANAGEMENT',\n",
       "       'TRANSLATION AND INTERPRETING STUDIES',\n",
       "       'URBAN DESIGN AND LANDSCAPE ARCHITECTURE',\n",
       "       'VISUAL COMMUNICATION AND DESIGN'], dtype=object)"
      ]
     },
     "execution_count": 443,
     "metadata": {},
     "output_type": "execute_result"
    }
   ],
   "source": [
    "labelencoder.classes_"
   ]
  },
  {
   "cell_type": "code",
   "execution_count": 444,
   "id": "58bee660-7252-4660-9109-a2fce140c074",
   "metadata": {},
   "outputs": [
    {
     "data": {
      "text/html": [
       "<div>\n",
       "<style scoped>\n",
       "    .dataframe tbody tr th:only-of-type {\n",
       "        vertical-align: middle;\n",
       "    }\n",
       "\n",
       "    .dataframe tbody tr th {\n",
       "        vertical-align: top;\n",
       "    }\n",
       "\n",
       "    .dataframe thead th {\n",
       "        text-align: right;\n",
       "    }\n",
       "</style>\n",
       "<table border=\"1\" class=\"dataframe\">\n",
       "  <thead>\n",
       "    <tr style=\"text-align: right;\">\n",
       "      <th></th>\n",
       "      <th>Countries</th>\n",
       "      <th>Departments</th>\n",
       "      <th>Exam score</th>\n",
       "    </tr>\n",
       "  </thead>\n",
       "  <tbody>\n",
       "    <tr>\n",
       "      <th>0</th>\n",
       "      <td>13</td>\n",
       "      <td>12</td>\n",
       "      <td>98.50</td>\n",
       "    </tr>\n",
       "    <tr>\n",
       "      <th>1</th>\n",
       "      <td>13</td>\n",
       "      <td>48</td>\n",
       "      <td>97.10</td>\n",
       "    </tr>\n",
       "    <tr>\n",
       "      <th>2</th>\n",
       "      <td>9</td>\n",
       "      <td>44</td>\n",
       "      <td>96.80</td>\n",
       "    </tr>\n",
       "    <tr>\n",
       "      <th>3</th>\n",
       "      <td>9</td>\n",
       "      <td>35</td>\n",
       "      <td>96.50</td>\n",
       "    </tr>\n",
       "    <tr>\n",
       "      <th>4</th>\n",
       "      <td>13</td>\n",
       "      <td>12</td>\n",
       "      <td>96.32</td>\n",
       "    </tr>\n",
       "    <tr>\n",
       "      <th>...</th>\n",
       "      <td>...</td>\n",
       "      <td>...</td>\n",
       "      <td>...</td>\n",
       "    </tr>\n",
       "    <tr>\n",
       "      <th>336</th>\n",
       "      <td>6</td>\n",
       "      <td>41</td>\n",
       "      <td>62.13</td>\n",
       "    </tr>\n",
       "    <tr>\n",
       "      <th>337</th>\n",
       "      <td>16</td>\n",
       "      <td>6</td>\n",
       "      <td>61.63</td>\n",
       "    </tr>\n",
       "    <tr>\n",
       "      <th>338</th>\n",
       "      <td>1</td>\n",
       "      <td>24</td>\n",
       "      <td>59.93</td>\n",
       "    </tr>\n",
       "    <tr>\n",
       "      <th>339</th>\n",
       "      <td>6</td>\n",
       "      <td>0</td>\n",
       "      <td>56.58</td>\n",
       "    </tr>\n",
       "    <tr>\n",
       "      <th>340</th>\n",
       "      <td>9</td>\n",
       "      <td>33</td>\n",
       "      <td>51.40</td>\n",
       "    </tr>\n",
       "  </tbody>\n",
       "</table>\n",
       "<p>339 rows × 3 columns</p>\n",
       "</div>"
      ],
      "text/plain": [
       "     Countries  Departments  Exam score\n",
       "0           13           12       98.50\n",
       "1           13           48       97.10\n",
       "2            9           44       96.80\n",
       "3            9           35       96.50\n",
       "4           13           12       96.32\n",
       "..         ...          ...         ...\n",
       "336          6           41       62.13\n",
       "337         16            6       61.63\n",
       "338          1           24       59.93\n",
       "339          6            0       56.58\n",
       "340          9           33       51.40\n",
       "\n",
       "[339 rows x 3 columns]"
      ]
     },
     "execution_count": 444,
     "metadata": {},
     "output_type": "execute_result"
    }
   ],
   "source": [
    "X"
   ]
  },
  {
   "cell_type": "code",
   "execution_count": 445,
   "id": "5482ef54-c4ba-4027-8200-5cdb2b3b862b",
   "metadata": {},
   "outputs": [
    {
     "data": {
      "text/html": [
       "<div>\n",
       "<style scoped>\n",
       "    .dataframe tbody tr th:only-of-type {\n",
       "        vertical-align: middle;\n",
       "    }\n",
       "\n",
       "    .dataframe tbody tr th {\n",
       "        vertical-align: top;\n",
       "    }\n",
       "\n",
       "    .dataframe thead th {\n",
       "        text-align: right;\n",
       "    }\n",
       "</style>\n",
       "<table border=\"1\" class=\"dataframe\">\n",
       "  <thead>\n",
       "    <tr style=\"text-align: right;\">\n",
       "      <th></th>\n",
       "      <th>Grant</th>\n",
       "    </tr>\n",
       "  </thead>\n",
       "  <tbody>\n",
       "    <tr>\n",
       "      <th>0</th>\n",
       "      <td>1</td>\n",
       "    </tr>\n",
       "    <tr>\n",
       "      <th>1</th>\n",
       "      <td>1</td>\n",
       "    </tr>\n",
       "    <tr>\n",
       "      <th>2</th>\n",
       "      <td>1</td>\n",
       "    </tr>\n",
       "    <tr>\n",
       "      <th>3</th>\n",
       "      <td>1</td>\n",
       "    </tr>\n",
       "    <tr>\n",
       "      <th>4</th>\n",
       "      <td>1</td>\n",
       "    </tr>\n",
       "    <tr>\n",
       "      <th>...</th>\n",
       "      <td>...</td>\n",
       "    </tr>\n",
       "    <tr>\n",
       "      <th>336</th>\n",
       "      <td>0</td>\n",
       "    </tr>\n",
       "    <tr>\n",
       "      <th>337</th>\n",
       "      <td>0</td>\n",
       "    </tr>\n",
       "    <tr>\n",
       "      <th>338</th>\n",
       "      <td>0</td>\n",
       "    </tr>\n",
       "    <tr>\n",
       "      <th>339</th>\n",
       "      <td>0</td>\n",
       "    </tr>\n",
       "    <tr>\n",
       "      <th>340</th>\n",
       "      <td>0</td>\n",
       "    </tr>\n",
       "  </tbody>\n",
       "</table>\n",
       "<p>339 rows × 1 columns</p>\n",
       "</div>"
      ],
      "text/plain": [
       "     Grant\n",
       "0        1\n",
       "1        1\n",
       "2        1\n",
       "3        1\n",
       "4        1\n",
       "..     ...\n",
       "336      0\n",
       "337      0\n",
       "338      0\n",
       "339      0\n",
       "340      0\n",
       "\n",
       "[339 rows x 1 columns]"
      ]
     },
     "execution_count": 445,
     "metadata": {},
     "output_type": "execute_result"
    }
   ],
   "source": [
    "y"
   ]
  },
  {
   "cell_type": "code",
   "execution_count": 446,
   "id": "e9f6fb9b-47f7-492e-adc4-69a4859e3ef9",
   "metadata": {},
   "outputs": [],
   "source": [
    "from sklearn.model_selection import train_test_split\n",
    "X_train,X_test,y_train,y_test = train_test_split(X,y,test_size = 0.2)"
   ]
  },
  {
   "cell_type": "code",
   "execution_count": 447,
   "id": "c42da509-7432-46e1-8c16-c0a85cf9f368",
   "metadata": {},
   "outputs": [
    {
     "data": {
      "text/html": [
       "<style>#sk-container-id-14 {color: black;background-color: white;}#sk-container-id-14 pre{padding: 0;}#sk-container-id-14 div.sk-toggleable {background-color: white;}#sk-container-id-14 label.sk-toggleable__label {cursor: pointer;display: block;width: 100%;margin-bottom: 0;padding: 0.3em;box-sizing: border-box;text-align: center;}#sk-container-id-14 label.sk-toggleable__label-arrow:before {content: \"▸\";float: left;margin-right: 0.25em;color: #696969;}#sk-container-id-14 label.sk-toggleable__label-arrow:hover:before {color: black;}#sk-container-id-14 div.sk-estimator:hover label.sk-toggleable__label-arrow:before {color: black;}#sk-container-id-14 div.sk-toggleable__content {max-height: 0;max-width: 0;overflow: hidden;text-align: left;background-color: #f0f8ff;}#sk-container-id-14 div.sk-toggleable__content pre {margin: 0.2em;color: black;border-radius: 0.25em;background-color: #f0f8ff;}#sk-container-id-14 input.sk-toggleable__control:checked~div.sk-toggleable__content {max-height: 200px;max-width: 100%;overflow: auto;}#sk-container-id-14 input.sk-toggleable__control:checked~label.sk-toggleable__label-arrow:before {content: \"▾\";}#sk-container-id-14 div.sk-estimator input.sk-toggleable__control:checked~label.sk-toggleable__label {background-color: #d4ebff;}#sk-container-id-14 div.sk-label input.sk-toggleable__control:checked~label.sk-toggleable__label {background-color: #d4ebff;}#sk-container-id-14 input.sk-hidden--visually {border: 0;clip: rect(1px 1px 1px 1px);clip: rect(1px, 1px, 1px, 1px);height: 1px;margin: -1px;overflow: hidden;padding: 0;position: absolute;width: 1px;}#sk-container-id-14 div.sk-estimator {font-family: monospace;background-color: #f0f8ff;border: 1px dotted black;border-radius: 0.25em;box-sizing: border-box;margin-bottom: 0.5em;}#sk-container-id-14 div.sk-estimator:hover {background-color: #d4ebff;}#sk-container-id-14 div.sk-parallel-item::after {content: \"\";width: 100%;border-bottom: 1px solid gray;flex-grow: 1;}#sk-container-id-14 div.sk-label:hover label.sk-toggleable__label {background-color: #d4ebff;}#sk-container-id-14 div.sk-serial::before {content: \"\";position: absolute;border-left: 1px solid gray;box-sizing: border-box;top: 0;bottom: 0;left: 50%;z-index: 0;}#sk-container-id-14 div.sk-serial {display: flex;flex-direction: column;align-items: center;background-color: white;padding-right: 0.2em;padding-left: 0.2em;position: relative;}#sk-container-id-14 div.sk-item {position: relative;z-index: 1;}#sk-container-id-14 div.sk-parallel {display: flex;align-items: stretch;justify-content: center;background-color: white;position: relative;}#sk-container-id-14 div.sk-item::before, #sk-container-id-14 div.sk-parallel-item::before {content: \"\";position: absolute;border-left: 1px solid gray;box-sizing: border-box;top: 0;bottom: 0;left: 50%;z-index: -1;}#sk-container-id-14 div.sk-parallel-item {display: flex;flex-direction: column;z-index: 1;position: relative;background-color: white;}#sk-container-id-14 div.sk-parallel-item:first-child::after {align-self: flex-end;width: 50%;}#sk-container-id-14 div.sk-parallel-item:last-child::after {align-self: flex-start;width: 50%;}#sk-container-id-14 div.sk-parallel-item:only-child::after {width: 0;}#sk-container-id-14 div.sk-dashed-wrapped {border: 1px dashed gray;margin: 0 0.4em 0.5em 0.4em;box-sizing: border-box;padding-bottom: 0.4em;background-color: white;}#sk-container-id-14 div.sk-label label {font-family: monospace;font-weight: bold;display: inline-block;line-height: 1.2em;}#sk-container-id-14 div.sk-label-container {text-align: center;}#sk-container-id-14 div.sk-container {/* jupyter's `normalize.less` sets `[hidden] { display: none; }` but bootstrap.min.css set `[hidden] { display: none !important; }` so we also need the `!important` here to be able to override the default hidden behavior on the sphinx rendered scikit-learn.org. See: https://github.com/scikit-learn/scikit-learn/issues/21755 */display: inline-block !important;position: relative;}#sk-container-id-14 div.sk-text-repr-fallback {display: none;}</style><div id=\"sk-container-id-14\" class=\"sk-top-container\"><div class=\"sk-text-repr-fallback\"><pre>LogisticRegression()</pre><b>In a Jupyter environment, please rerun this cell to show the HTML representation or trust the notebook. <br />On GitHub, the HTML representation is unable to render, please try loading this page with nbviewer.org.</b></div><div class=\"sk-container\" hidden><div class=\"sk-item\"><div class=\"sk-estimator sk-toggleable\"><input class=\"sk-toggleable__control sk-hidden--visually\" id=\"sk-estimator-id-26\" type=\"checkbox\" checked><label for=\"sk-estimator-id-26\" class=\"sk-toggleable__label sk-toggleable__label-arrow\">LogisticRegression</label><div class=\"sk-toggleable__content\"><pre>LogisticRegression()</pre></div></div></div></div></div>"
      ],
      "text/plain": [
       "LogisticRegression()"
      ]
     },
     "execution_count": 447,
     "metadata": {},
     "output_type": "execute_result"
    }
   ],
   "source": [
    "from sklearn.linear_model import LogisticRegression\n",
    "log_model = LogisticRegression()\n",
    "log_model.fit(X_train,y_train.values.ravel())"
   ]
  },
  {
   "cell_type": "code",
   "execution_count": 448,
   "id": "9f335b9d-fe55-44f8-8781-77820341e6ba",
   "metadata": {},
   "outputs": [],
   "source": [
    "from sklearn.metrics import accuracy_score"
   ]
  },
  {
   "cell_type": "code",
   "execution_count": 449,
   "id": "f0e4c44a-4fee-49e7-bb36-0cb2a62d4ce4",
   "metadata": {},
   "outputs": [],
   "source": [
    "log_model_predictions = log_model.predict(X_test)"
   ]
  },
  {
   "cell_type": "code",
   "execution_count": 450,
   "id": "d9fc4548-132b-492b-a04a-fa71cad8c9d2",
   "metadata": {},
   "outputs": [
    {
     "data": {
      "text/plain": [
       "0.8529411764705882"
      ]
     },
     "execution_count": 450,
     "metadata": {},
     "output_type": "execute_result"
    }
   ],
   "source": [
    "accuracy_score(y_test,log_model_predictions)"
   ]
  },
  {
   "cell_type": "code",
   "execution_count": 451,
   "id": "bd0534e7-1c46-4644-9bd2-4cd44fbf870a",
   "metadata": {},
   "outputs": [],
   "source": [
    "from sklearn.model_selection import GridSearchCV"
   ]
  },
  {
   "cell_type": "code",
   "execution_count": 452,
   "id": "53dae252-4ba8-4490-8ffe-0ef209f536d9",
   "metadata": {},
   "outputs": [],
   "source": [
    "from sklearn.svm import SVC\n",
    "svm = SVC()"
   ]
  },
  {
   "cell_type": "code",
   "execution_count": 453,
   "id": "f732d5fe-4848-4d8f-bc95-2d76d991a053",
   "metadata": {},
   "outputs": [],
   "source": [
    "param_grid_svc = {\"C\" : [0.01 , 0.1 , 0.5 , 1], \"kernel\":[\"Linear\",\"rbf\",\"poly\"]}"
   ]
  },
  {
   "cell_type": "code",
   "execution_count": 454,
   "id": "a286c0d6-3b50-4a9e-bd47-f20c2de1defa",
   "metadata": {},
   "outputs": [],
   "source": [
    "gridsvc = GridSearchCV(svm , param_grid_svc)"
   ]
  },
  {
   "cell_type": "code",
   "execution_count": 455,
   "id": "87aa4d7e-0131-4e44-a01d-724cb9e7879a",
   "metadata": {},
   "outputs": [
    {
     "name": "stderr",
     "output_type": "stream",
     "text": [
      "C:\\Users\\hp\\anaconda3\\Lib\\site-packages\\sklearn\\model_selection\\_validation.py:378: FitFailedWarning: \n",
      "20 fits failed out of a total of 60.\n",
      "The score on these train-test partitions for these parameters will be set to nan.\n",
      "If these failures are not expected, you can try to debug them by setting error_score='raise'.\n",
      "\n",
      "Below are more details about the failures:\n",
      "--------------------------------------------------------------------------------\n",
      "20 fits failed with the following error:\n",
      "Traceback (most recent call last):\n",
      "  File \"C:\\Users\\hp\\anaconda3\\Lib\\site-packages\\sklearn\\model_selection\\_validation.py\", line 686, in _fit_and_score\n",
      "    estimator.fit(X_train, y_train, **fit_params)\n",
      "  File \"C:\\Users\\hp\\anaconda3\\Lib\\site-packages\\sklearn\\svm\\_base.py\", line 180, in fit\n",
      "    self._validate_params()\n",
      "  File \"C:\\Users\\hp\\anaconda3\\Lib\\site-packages\\sklearn\\base.py\", line 600, in _validate_params\n",
      "    validate_parameter_constraints(\n",
      "  File \"C:\\Users\\hp\\anaconda3\\Lib\\site-packages\\sklearn\\utils\\_param_validation.py\", line 97, in validate_parameter_constraints\n",
      "    raise InvalidParameterError(\n",
      "sklearn.utils._param_validation.InvalidParameterError: The 'kernel' parameter of SVC must be a str among {'sigmoid', 'poly', 'precomputed', 'linear', 'rbf'} or a callable. Got 'Linear' instead.\n",
      "\n",
      "  warnings.warn(some_fits_failed_message, FitFailedWarning)\n",
      "C:\\Users\\hp\\anaconda3\\Lib\\site-packages\\sklearn\\model_selection\\_search.py:952: UserWarning: One or more of the test scores are non-finite: [       nan 0.5756229  0.82296296        nan 0.66424242 0.87838384\n",
      "        nan 0.86727273 0.87097643        nan 0.86727273 0.87468013]\n",
      "  warnings.warn(\n"
     ]
    },
    {
     "data": {
      "text/html": [
       "<style>#sk-container-id-15 {color: black;background-color: white;}#sk-container-id-15 pre{padding: 0;}#sk-container-id-15 div.sk-toggleable {background-color: white;}#sk-container-id-15 label.sk-toggleable__label {cursor: pointer;display: block;width: 100%;margin-bottom: 0;padding: 0.3em;box-sizing: border-box;text-align: center;}#sk-container-id-15 label.sk-toggleable__label-arrow:before {content: \"▸\";float: left;margin-right: 0.25em;color: #696969;}#sk-container-id-15 label.sk-toggleable__label-arrow:hover:before {color: black;}#sk-container-id-15 div.sk-estimator:hover label.sk-toggleable__label-arrow:before {color: black;}#sk-container-id-15 div.sk-toggleable__content {max-height: 0;max-width: 0;overflow: hidden;text-align: left;background-color: #f0f8ff;}#sk-container-id-15 div.sk-toggleable__content pre {margin: 0.2em;color: black;border-radius: 0.25em;background-color: #f0f8ff;}#sk-container-id-15 input.sk-toggleable__control:checked~div.sk-toggleable__content {max-height: 200px;max-width: 100%;overflow: auto;}#sk-container-id-15 input.sk-toggleable__control:checked~label.sk-toggleable__label-arrow:before {content: \"▾\";}#sk-container-id-15 div.sk-estimator input.sk-toggleable__control:checked~label.sk-toggleable__label {background-color: #d4ebff;}#sk-container-id-15 div.sk-label input.sk-toggleable__control:checked~label.sk-toggleable__label {background-color: #d4ebff;}#sk-container-id-15 input.sk-hidden--visually {border: 0;clip: rect(1px 1px 1px 1px);clip: rect(1px, 1px, 1px, 1px);height: 1px;margin: -1px;overflow: hidden;padding: 0;position: absolute;width: 1px;}#sk-container-id-15 div.sk-estimator {font-family: monospace;background-color: #f0f8ff;border: 1px dotted black;border-radius: 0.25em;box-sizing: border-box;margin-bottom: 0.5em;}#sk-container-id-15 div.sk-estimator:hover {background-color: #d4ebff;}#sk-container-id-15 div.sk-parallel-item::after {content: \"\";width: 100%;border-bottom: 1px solid gray;flex-grow: 1;}#sk-container-id-15 div.sk-label:hover label.sk-toggleable__label {background-color: #d4ebff;}#sk-container-id-15 div.sk-serial::before {content: \"\";position: absolute;border-left: 1px solid gray;box-sizing: border-box;top: 0;bottom: 0;left: 50%;z-index: 0;}#sk-container-id-15 div.sk-serial {display: flex;flex-direction: column;align-items: center;background-color: white;padding-right: 0.2em;padding-left: 0.2em;position: relative;}#sk-container-id-15 div.sk-item {position: relative;z-index: 1;}#sk-container-id-15 div.sk-parallel {display: flex;align-items: stretch;justify-content: center;background-color: white;position: relative;}#sk-container-id-15 div.sk-item::before, #sk-container-id-15 div.sk-parallel-item::before {content: \"\";position: absolute;border-left: 1px solid gray;box-sizing: border-box;top: 0;bottom: 0;left: 50%;z-index: -1;}#sk-container-id-15 div.sk-parallel-item {display: flex;flex-direction: column;z-index: 1;position: relative;background-color: white;}#sk-container-id-15 div.sk-parallel-item:first-child::after {align-self: flex-end;width: 50%;}#sk-container-id-15 div.sk-parallel-item:last-child::after {align-self: flex-start;width: 50%;}#sk-container-id-15 div.sk-parallel-item:only-child::after {width: 0;}#sk-container-id-15 div.sk-dashed-wrapped {border: 1px dashed gray;margin: 0 0.4em 0.5em 0.4em;box-sizing: border-box;padding-bottom: 0.4em;background-color: white;}#sk-container-id-15 div.sk-label label {font-family: monospace;font-weight: bold;display: inline-block;line-height: 1.2em;}#sk-container-id-15 div.sk-label-container {text-align: center;}#sk-container-id-15 div.sk-container {/* jupyter's `normalize.less` sets `[hidden] { display: none; }` but bootstrap.min.css set `[hidden] { display: none !important; }` so we also need the `!important` here to be able to override the default hidden behavior on the sphinx rendered scikit-learn.org. See: https://github.com/scikit-learn/scikit-learn/issues/21755 */display: inline-block !important;position: relative;}#sk-container-id-15 div.sk-text-repr-fallback {display: none;}</style><div id=\"sk-container-id-15\" class=\"sk-top-container\"><div class=\"sk-text-repr-fallback\"><pre>GridSearchCV(estimator=SVC(),\n",
       "             param_grid={&#x27;C&#x27;: [0.01, 0.1, 0.5, 1],\n",
       "                         &#x27;kernel&#x27;: [&#x27;Linear&#x27;, &#x27;rbf&#x27;, &#x27;poly&#x27;]})</pre><b>In a Jupyter environment, please rerun this cell to show the HTML representation or trust the notebook. <br />On GitHub, the HTML representation is unable to render, please try loading this page with nbviewer.org.</b></div><div class=\"sk-container\" hidden><div class=\"sk-item sk-dashed-wrapped\"><div class=\"sk-label-container\"><div class=\"sk-label sk-toggleable\"><input class=\"sk-toggleable__control sk-hidden--visually\" id=\"sk-estimator-id-27\" type=\"checkbox\" ><label for=\"sk-estimator-id-27\" class=\"sk-toggleable__label sk-toggleable__label-arrow\">GridSearchCV</label><div class=\"sk-toggleable__content\"><pre>GridSearchCV(estimator=SVC(),\n",
       "             param_grid={&#x27;C&#x27;: [0.01, 0.1, 0.5, 1],\n",
       "                         &#x27;kernel&#x27;: [&#x27;Linear&#x27;, &#x27;rbf&#x27;, &#x27;poly&#x27;]})</pre></div></div></div><div class=\"sk-parallel\"><div class=\"sk-parallel-item\"><div class=\"sk-item\"><div class=\"sk-label-container\"><div class=\"sk-label sk-toggleable\"><input class=\"sk-toggleable__control sk-hidden--visually\" id=\"sk-estimator-id-28\" type=\"checkbox\" ><label for=\"sk-estimator-id-28\" class=\"sk-toggleable__label sk-toggleable__label-arrow\">estimator: SVC</label><div class=\"sk-toggleable__content\"><pre>SVC()</pre></div></div></div><div class=\"sk-serial\"><div class=\"sk-item\"><div class=\"sk-estimator sk-toggleable\"><input class=\"sk-toggleable__control sk-hidden--visually\" id=\"sk-estimator-id-29\" type=\"checkbox\" ><label for=\"sk-estimator-id-29\" class=\"sk-toggleable__label sk-toggleable__label-arrow\">SVC</label><div class=\"sk-toggleable__content\"><pre>SVC()</pre></div></div></div></div></div></div></div></div></div></div>"
      ],
      "text/plain": [
       "GridSearchCV(estimator=SVC(),\n",
       "             param_grid={'C': [0.01, 0.1, 0.5, 1],\n",
       "                         'kernel': ['Linear', 'rbf', 'poly']})"
      ]
     },
     "execution_count": 455,
     "metadata": {},
     "output_type": "execute_result"
    }
   ],
   "source": [
    "gridsvc.fit(X_train,y_train.values.ravel()) "
   ]
  },
  {
   "cell_type": "code",
   "execution_count": 456,
   "id": "390cc1ac-8c9d-483f-a662-822fdb9ca74e",
   "metadata": {},
   "outputs": [
    {
     "data": {
      "text/plain": [
       "{'C': 0.1, 'kernel': 'poly'}"
      ]
     },
     "execution_count": 456,
     "metadata": {},
     "output_type": "execute_result"
    }
   ],
   "source": [
    "gridsvc.best_params_"
   ]
  },
  {
   "cell_type": "code",
   "execution_count": 457,
   "id": "24b2e96a-e9cf-4cae-a792-9f3cb6330069",
   "metadata": {},
   "outputs": [
    {
     "data": {
      "text/plain": [
       "<bound method BaseSVC.predict of SVC(C=0.1, kernel='poly')>"
      ]
     },
     "execution_count": 457,
     "metadata": {},
     "output_type": "execute_result"
    }
   ],
   "source": [
    "gridsvc.best_estimator_.predict"
   ]
  },
  {
   "cell_type": "code",
   "execution_count": 458,
   "id": "1885ee5a-322f-43e2-80c0-b6cfc03b8e85",
   "metadata": {},
   "outputs": [],
   "source": [
    "svc_predictions = gridsvc.predict(X_test)"
   ]
  },
  {
   "cell_type": "code",
   "execution_count": 459,
   "id": "a1637ddd-c369-4ea3-b809-b45277bf9542",
   "metadata": {},
   "outputs": [
    {
     "data": {
      "text/plain": [
       "0.8823529411764706"
      ]
     },
     "execution_count": 459,
     "metadata": {},
     "output_type": "execute_result"
    }
   ],
   "source": [
    "accuracy_score(y_test,svc_predictions)"
   ]
  },
  {
   "cell_type": "code",
   "execution_count": 460,
   "id": "da1bc0f2-c8ab-4c83-ba9b-5f5b3c9ee44c",
   "metadata": {},
   "outputs": [],
   "source": [
    "from sklearn.ensemble import RandomForestClassifier\n",
    "rfc_model = RandomForestClassifier()\n",
    "n_estimators = [32,64,128,256]\n",
    "max_features = [2,3,4]\n",
    "param_grid_rfc = {\"n_estimators\": n_estimators,\"max_features\":max_features}\n"
   ]
  },
  {
   "cell_type": "code",
   "execution_count": 461,
   "id": "53142d8d-8c01-465a-ac80-7d1f7f45e2aa",
   "metadata": {},
   "outputs": [],
   "source": [
    "grid_rfc = GridSearchCV(rfc_model , param_grid_rfc)"
   ]
  },
  {
   "cell_type": "code",
   "execution_count": 462,
   "id": "aa60e66c-04a6-4a07-873c-89214dd3bded",
   "metadata": {},
   "outputs": [
    {
     "data": {
      "text/html": [
       "<style>#sk-container-id-16 {color: black;background-color: white;}#sk-container-id-16 pre{padding: 0;}#sk-container-id-16 div.sk-toggleable {background-color: white;}#sk-container-id-16 label.sk-toggleable__label {cursor: pointer;display: block;width: 100%;margin-bottom: 0;padding: 0.3em;box-sizing: border-box;text-align: center;}#sk-container-id-16 label.sk-toggleable__label-arrow:before {content: \"▸\";float: left;margin-right: 0.25em;color: #696969;}#sk-container-id-16 label.sk-toggleable__label-arrow:hover:before {color: black;}#sk-container-id-16 div.sk-estimator:hover label.sk-toggleable__label-arrow:before {color: black;}#sk-container-id-16 div.sk-toggleable__content {max-height: 0;max-width: 0;overflow: hidden;text-align: left;background-color: #f0f8ff;}#sk-container-id-16 div.sk-toggleable__content pre {margin: 0.2em;color: black;border-radius: 0.25em;background-color: #f0f8ff;}#sk-container-id-16 input.sk-toggleable__control:checked~div.sk-toggleable__content {max-height: 200px;max-width: 100%;overflow: auto;}#sk-container-id-16 input.sk-toggleable__control:checked~label.sk-toggleable__label-arrow:before {content: \"▾\";}#sk-container-id-16 div.sk-estimator input.sk-toggleable__control:checked~label.sk-toggleable__label {background-color: #d4ebff;}#sk-container-id-16 div.sk-label input.sk-toggleable__control:checked~label.sk-toggleable__label {background-color: #d4ebff;}#sk-container-id-16 input.sk-hidden--visually {border: 0;clip: rect(1px 1px 1px 1px);clip: rect(1px, 1px, 1px, 1px);height: 1px;margin: -1px;overflow: hidden;padding: 0;position: absolute;width: 1px;}#sk-container-id-16 div.sk-estimator {font-family: monospace;background-color: #f0f8ff;border: 1px dotted black;border-radius: 0.25em;box-sizing: border-box;margin-bottom: 0.5em;}#sk-container-id-16 div.sk-estimator:hover {background-color: #d4ebff;}#sk-container-id-16 div.sk-parallel-item::after {content: \"\";width: 100%;border-bottom: 1px solid gray;flex-grow: 1;}#sk-container-id-16 div.sk-label:hover label.sk-toggleable__label {background-color: #d4ebff;}#sk-container-id-16 div.sk-serial::before {content: \"\";position: absolute;border-left: 1px solid gray;box-sizing: border-box;top: 0;bottom: 0;left: 50%;z-index: 0;}#sk-container-id-16 div.sk-serial {display: flex;flex-direction: column;align-items: center;background-color: white;padding-right: 0.2em;padding-left: 0.2em;position: relative;}#sk-container-id-16 div.sk-item {position: relative;z-index: 1;}#sk-container-id-16 div.sk-parallel {display: flex;align-items: stretch;justify-content: center;background-color: white;position: relative;}#sk-container-id-16 div.sk-item::before, #sk-container-id-16 div.sk-parallel-item::before {content: \"\";position: absolute;border-left: 1px solid gray;box-sizing: border-box;top: 0;bottom: 0;left: 50%;z-index: -1;}#sk-container-id-16 div.sk-parallel-item {display: flex;flex-direction: column;z-index: 1;position: relative;background-color: white;}#sk-container-id-16 div.sk-parallel-item:first-child::after {align-self: flex-end;width: 50%;}#sk-container-id-16 div.sk-parallel-item:last-child::after {align-self: flex-start;width: 50%;}#sk-container-id-16 div.sk-parallel-item:only-child::after {width: 0;}#sk-container-id-16 div.sk-dashed-wrapped {border: 1px dashed gray;margin: 0 0.4em 0.5em 0.4em;box-sizing: border-box;padding-bottom: 0.4em;background-color: white;}#sk-container-id-16 div.sk-label label {font-family: monospace;font-weight: bold;display: inline-block;line-height: 1.2em;}#sk-container-id-16 div.sk-label-container {text-align: center;}#sk-container-id-16 div.sk-container {/* jupyter's `normalize.less` sets `[hidden] { display: none; }` but bootstrap.min.css set `[hidden] { display: none !important; }` so we also need the `!important` here to be able to override the default hidden behavior on the sphinx rendered scikit-learn.org. See: https://github.com/scikit-learn/scikit-learn/issues/21755 */display: inline-block !important;position: relative;}#sk-container-id-16 div.sk-text-repr-fallback {display: none;}</style><div id=\"sk-container-id-16\" class=\"sk-top-container\"><div class=\"sk-text-repr-fallback\"><pre>GridSearchCV(estimator=RandomForestClassifier(),\n",
       "             param_grid={&#x27;max_features&#x27;: [2, 3, 4],\n",
       "                         &#x27;n_estimators&#x27;: [32, 64, 128, 256]})</pre><b>In a Jupyter environment, please rerun this cell to show the HTML representation or trust the notebook. <br />On GitHub, the HTML representation is unable to render, please try loading this page with nbviewer.org.</b></div><div class=\"sk-container\" hidden><div class=\"sk-item sk-dashed-wrapped\"><div class=\"sk-label-container\"><div class=\"sk-label sk-toggleable\"><input class=\"sk-toggleable__control sk-hidden--visually\" id=\"sk-estimator-id-30\" type=\"checkbox\" ><label for=\"sk-estimator-id-30\" class=\"sk-toggleable__label sk-toggleable__label-arrow\">GridSearchCV</label><div class=\"sk-toggleable__content\"><pre>GridSearchCV(estimator=RandomForestClassifier(),\n",
       "             param_grid={&#x27;max_features&#x27;: [2, 3, 4],\n",
       "                         &#x27;n_estimators&#x27;: [32, 64, 128, 256]})</pre></div></div></div><div class=\"sk-parallel\"><div class=\"sk-parallel-item\"><div class=\"sk-item\"><div class=\"sk-label-container\"><div class=\"sk-label sk-toggleable\"><input class=\"sk-toggleable__control sk-hidden--visually\" id=\"sk-estimator-id-31\" type=\"checkbox\" ><label for=\"sk-estimator-id-31\" class=\"sk-toggleable__label sk-toggleable__label-arrow\">estimator: RandomForestClassifier</label><div class=\"sk-toggleable__content\"><pre>RandomForestClassifier()</pre></div></div></div><div class=\"sk-serial\"><div class=\"sk-item\"><div class=\"sk-estimator sk-toggleable\"><input class=\"sk-toggleable__control sk-hidden--visually\" id=\"sk-estimator-id-32\" type=\"checkbox\" ><label for=\"sk-estimator-id-32\" class=\"sk-toggleable__label sk-toggleable__label-arrow\">RandomForestClassifier</label><div class=\"sk-toggleable__content\"><pre>RandomForestClassifier()</pre></div></div></div></div></div></div></div></div></div></div>"
      ],
      "text/plain": [
       "GridSearchCV(estimator=RandomForestClassifier(),\n",
       "             param_grid={'max_features': [2, 3, 4],\n",
       "                         'n_estimators': [32, 64, 128, 256]})"
      ]
     },
     "execution_count": 462,
     "metadata": {},
     "output_type": "execute_result"
    }
   ],
   "source": [
    "grid_rfc.fit(X_train,y_train.values.ravel())\n"
   ]
  },
  {
   "cell_type": "code",
   "execution_count": 463,
   "id": "bfa3f5de-2c1c-44d4-8770-5ead96e66253",
   "metadata": {},
   "outputs": [
    {
     "data": {
      "text/plain": [
       "{'max_features': 2, 'n_estimators': 256}"
      ]
     },
     "execution_count": 463,
     "metadata": {},
     "output_type": "execute_result"
    }
   ],
   "source": [
    "grid_rfc.best_params_"
   ]
  },
  {
   "cell_type": "code",
   "execution_count": 464,
   "id": "06fc71e4-5b24-4229-ab64-296fb7c0a7fd",
   "metadata": {},
   "outputs": [],
   "source": [
    "predictions = grid_rfc.predict(X_test)"
   ]
  },
  {
   "cell_type": "code",
   "execution_count": 465,
   "id": "cfcc3808-a0ca-4074-857b-1c5836a2cec3",
   "metadata": {},
   "outputs": [
    {
     "data": {
      "text/plain": [
       "0.8529411764705882"
      ]
     },
     "execution_count": 465,
     "metadata": {},
     "output_type": "execute_result"
    }
   ],
   "source": [
    "accuracy_score(y_test,predictions)"
   ]
  },
  {
   "cell_type": "code",
   "execution_count": 466,
   "id": "516a1901-dc88-41a6-a3b8-ddcfa596e99d",
   "metadata": {},
   "outputs": [
    {
     "data": {
      "text/html": [
       "<style>#sk-container-id-17 {color: black;background-color: white;}#sk-container-id-17 pre{padding: 0;}#sk-container-id-17 div.sk-toggleable {background-color: white;}#sk-container-id-17 label.sk-toggleable__label {cursor: pointer;display: block;width: 100%;margin-bottom: 0;padding: 0.3em;box-sizing: border-box;text-align: center;}#sk-container-id-17 label.sk-toggleable__label-arrow:before {content: \"▸\";float: left;margin-right: 0.25em;color: #696969;}#sk-container-id-17 label.sk-toggleable__label-arrow:hover:before {color: black;}#sk-container-id-17 div.sk-estimator:hover label.sk-toggleable__label-arrow:before {color: black;}#sk-container-id-17 div.sk-toggleable__content {max-height: 0;max-width: 0;overflow: hidden;text-align: left;background-color: #f0f8ff;}#sk-container-id-17 div.sk-toggleable__content pre {margin: 0.2em;color: black;border-radius: 0.25em;background-color: #f0f8ff;}#sk-container-id-17 input.sk-toggleable__control:checked~div.sk-toggleable__content {max-height: 200px;max-width: 100%;overflow: auto;}#sk-container-id-17 input.sk-toggleable__control:checked~label.sk-toggleable__label-arrow:before {content: \"▾\";}#sk-container-id-17 div.sk-estimator input.sk-toggleable__control:checked~label.sk-toggleable__label {background-color: #d4ebff;}#sk-container-id-17 div.sk-label input.sk-toggleable__control:checked~label.sk-toggleable__label {background-color: #d4ebff;}#sk-container-id-17 input.sk-hidden--visually {border: 0;clip: rect(1px 1px 1px 1px);clip: rect(1px, 1px, 1px, 1px);height: 1px;margin: -1px;overflow: hidden;padding: 0;position: absolute;width: 1px;}#sk-container-id-17 div.sk-estimator {font-family: monospace;background-color: #f0f8ff;border: 1px dotted black;border-radius: 0.25em;box-sizing: border-box;margin-bottom: 0.5em;}#sk-container-id-17 div.sk-estimator:hover {background-color: #d4ebff;}#sk-container-id-17 div.sk-parallel-item::after {content: \"\";width: 100%;border-bottom: 1px solid gray;flex-grow: 1;}#sk-container-id-17 div.sk-label:hover label.sk-toggleable__label {background-color: #d4ebff;}#sk-container-id-17 div.sk-serial::before {content: \"\";position: absolute;border-left: 1px solid gray;box-sizing: border-box;top: 0;bottom: 0;left: 50%;z-index: 0;}#sk-container-id-17 div.sk-serial {display: flex;flex-direction: column;align-items: center;background-color: white;padding-right: 0.2em;padding-left: 0.2em;position: relative;}#sk-container-id-17 div.sk-item {position: relative;z-index: 1;}#sk-container-id-17 div.sk-parallel {display: flex;align-items: stretch;justify-content: center;background-color: white;position: relative;}#sk-container-id-17 div.sk-item::before, #sk-container-id-17 div.sk-parallel-item::before {content: \"\";position: absolute;border-left: 1px solid gray;box-sizing: border-box;top: 0;bottom: 0;left: 50%;z-index: -1;}#sk-container-id-17 div.sk-parallel-item {display: flex;flex-direction: column;z-index: 1;position: relative;background-color: white;}#sk-container-id-17 div.sk-parallel-item:first-child::after {align-self: flex-end;width: 50%;}#sk-container-id-17 div.sk-parallel-item:last-child::after {align-self: flex-start;width: 50%;}#sk-container-id-17 div.sk-parallel-item:only-child::after {width: 0;}#sk-container-id-17 div.sk-dashed-wrapped {border: 1px dashed gray;margin: 0 0.4em 0.5em 0.4em;box-sizing: border-box;padding-bottom: 0.4em;background-color: white;}#sk-container-id-17 div.sk-label label {font-family: monospace;font-weight: bold;display: inline-block;line-height: 1.2em;}#sk-container-id-17 div.sk-label-container {text-align: center;}#sk-container-id-17 div.sk-container {/* jupyter's `normalize.less` sets `[hidden] { display: none; }` but bootstrap.min.css set `[hidden] { display: none !important; }` so we also need the `!important` here to be able to override the default hidden behavior on the sphinx rendered scikit-learn.org. See: https://github.com/scikit-learn/scikit-learn/issues/21755 */display: inline-block !important;position: relative;}#sk-container-id-17 div.sk-text-repr-fallback {display: none;}</style><div id=\"sk-container-id-17\" class=\"sk-top-container\"><div class=\"sk-text-repr-fallback\"><pre>SVC(C=0.1, kernel=&#x27;poly&#x27;)</pre><b>In a Jupyter environment, please rerun this cell to show the HTML representation or trust the notebook. <br />On GitHub, the HTML representation is unable to render, please try loading this page with nbviewer.org.</b></div><div class=\"sk-container\" hidden><div class=\"sk-item\"><div class=\"sk-estimator sk-toggleable\"><input class=\"sk-toggleable__control sk-hidden--visually\" id=\"sk-estimator-id-33\" type=\"checkbox\" checked><label for=\"sk-estimator-id-33\" class=\"sk-toggleable__label sk-toggleable__label-arrow\">SVC</label><div class=\"sk-toggleable__content\"><pre>SVC(C=0.1, kernel=&#x27;poly&#x27;)</pre></div></div></div></div></div>"
      ],
      "text/plain": [
       "SVC(C=0.1, kernel='poly')"
      ]
     },
     "execution_count": 466,
     "metadata": {},
     "output_type": "execute_result"
    }
   ],
   "source": [
    "gridsvc.best_estimator_"
   ]
  },
  {
   "cell_type": "code",
   "execution_count": 467,
   "id": "da524dd1-9255-4700-a3d6-1b208de7cc63",
   "metadata": {},
   "outputs": [
    {
     "data": {
      "text/plain": [
       "['model.pkl']"
      ]
     },
     "execution_count": 467,
     "metadata": {},
     "output_type": "execute_result"
    }
   ],
   "source": [
    "import joblib\n",
    "joblib.dump(gridsvc.best_estimator_,\"model.pkl\")"
   ]
  },
  {
   "cell_type": "code",
   "execution_count": 468,
   "id": "6481007f-2c73-4860-aec8-73c04ff25fa2",
   "metadata": {},
   "outputs": [
    {
     "data": {
      "text/plain": [
       "Index(['Countries', 'Departments', 'Exam score'], dtype='object')"
      ]
     },
     "execution_count": 468,
     "metadata": {},
     "output_type": "execute_result"
    }
   ],
   "source": [
    "X.columns"
   ]
  },
  {
   "cell_type": "code",
   "execution_count": null,
   "id": "71642539-62cf-46eb-b245-bf9e0e7ff82c",
   "metadata": {},
   "outputs": [],
   "source": []
  }
 ],
 "metadata": {
  "kernelspec": {
   "display_name": "Python 3 (ipykernel)",
   "language": "python",
   "name": "python3"
  },
  "language_info": {
   "codemirror_mode": {
    "name": "ipython",
    "version": 3
   },
   "file_extension": ".py",
   "mimetype": "text/x-python",
   "name": "python",
   "nbconvert_exporter": "python",
   "pygments_lexer": "ipython3",
   "version": "3.11.7"
  }
 },
 "nbformat": 4,
 "nbformat_minor": 5
}
